{
 "cells": [
  {
   "cell_type": "markdown",
   "metadata": {},
   "source": [
    "# Denver 2017 Bike Share Regression Modeling"
   ]
  },
  {
   "cell_type": "markdown",
   "metadata": {},
   "source": [
    "## 1. Introduction\n",
    "\n",
    "The data exploration performed on the Denver Trips dataset indicates weather variables have a significant impact on the number\n",
    "of checkouts. This section will focus on investigating the use of various regression models on the Trips data when combined with weather variables."
   ]
  },
  {
   "cell_type": "code",
   "execution_count": 1,
   "metadata": {
    "collapsed": true
   },
   "outputs": [],
   "source": [
    "# Import necessary libraries and functions that are needed for the analyses\n",
    "import pandas as pd\n",
    "import numpy as np\n",
    "import matplotlib\n",
    "import matplotlib.pyplot as plt\n",
    "from sklearn import metrics\n",
    "from sklearn.tree import DecisionTreeRegressor\n",
    "from sklearn import linear_model\n",
    "from sklearn.ensemble import RandomForestRegressor, ExtraTreesRegressor\n",
    "from sklearn.neighbors import KNeighborsRegressor\n",
    "from sklearn.model_selection import train_test_split\n",
    "import seaborn as sns\n",
    "pd.set_option('display.max_rows', 500)\n",
    "pd.set_option('display.max_columns', 500)\n",
    "pd.set_option('display.width', 1000)\n",
    "%matplotlib inline"
   ]
  },
  {
   "cell_type": "code",
   "execution_count": 2,
   "metadata": {},
   "outputs": [
    {
     "data": {
      "text/html": [
       "<style>body {\n",
       "    margin: 0;\n",
       "    font-family: Helvetica;\n",
       "}\n",
       "table.dataframe {\n",
       "    border-collapse: collapse;\n",
       "    border: none;\n",
       "}\n",
       "table.dataframe tr {\n",
       "    border: none;\n",
       "}\n",
       "table.dataframe td, table.dataframe th {\n",
       "    margin: 0;\n",
       "    border: 1px solid white;\n",
       "    padding-left: 0.25em;\n",
       "    padding-right: 0.25em;\n",
       "}\n",
       "table.dataframe th:not(:empty) {\n",
       "    background-color: #fec;\n",
       "    text-align: left;\n",
       "    font-weight: normal;\n",
       "}\n",
       "table.dataframe tr:nth-child(2) th:empty {\n",
       "    border-left: none;\n",
       "    border-right: 1px dashed #888;\n",
       "}\n",
       "table.dataframe td {\n",
       "    border: 2px solid #ccf;\n",
       "    background-color: #f4f4ff;\n",
       "}\n",
       "h3 {\n",
       "    color: white;\n",
       "    background-color: black;\n",
       "    padding: 0.5em;\n",
       "}\n",
       "</style>"
      ],
      "text/plain": [
       "<IPython.core.display.HTML object>"
      ]
     },
     "execution_count": 2,
     "metadata": {},
     "output_type": "execute_result"
    }
   ],
   "source": [
    "# taken from Brandon Rhodes's Pandas Tutorial (https://github.com/brandon-rhodes)\n",
    "from IPython.core.display import HTML\n",
    "css = open('style-table.css').read() + open('style-notebook.css').read()\n",
    "HTML('<style>{}</style>'.format(css))"
   ]
  },
  {
   "cell_type": "code",
   "execution_count": 3,
   "metadata": {
    "collapsed": true
   },
   "outputs": [],
   "source": [
    "dF = pd.read_csv(\"data/Denver_2017_Bike_Share_Trip_ML_Data.gz\", dtype = {'Bike_Number' : object}, compression=\"gzip\")"
   ]
  },
  {
   "cell_type": "code",
   "execution_count": 4,
   "metadata": {},
   "outputs": [
    {
     "data": {
      "text/plain": [
       "(322082, 15)"
      ]
     },
     "execution_count": 4,
     "metadata": {},
     "output_type": "execute_result"
    }
   ],
   "source": [
    "dF.shape"
   ]
  },
  {
   "cell_type": "code",
   "execution_count": 5,
   "metadata": {},
   "outputs": [
    {
     "data": {
      "text/html": [
       "<div>\n",
       "<style scoped>\n",
       "    .dataframe tbody tr th:only-of-type {\n",
       "        vertical-align: middle;\n",
       "    }\n",
       "\n",
       "    .dataframe tbody tr th {\n",
       "        vertical-align: top;\n",
       "    }\n",
       "\n",
       "    .dataframe thead th {\n",
       "        text-align: right;\n",
       "    }\n",
       "</style>\n",
       "<table border=\"1\" class=\"dataframe\">\n",
       "  <thead>\n",
       "    <tr style=\"text-align: right;\">\n",
       "      <th></th>\n",
       "      <th>User_Program</th>\n",
       "      <th>User_ID</th>\n",
       "      <th>Membership_Type</th>\n",
       "      <th>Bike_Number</th>\n",
       "      <th>Checkout_Date</th>\n",
       "      <th>Checkout_Hour</th>\n",
       "      <th>Checkout_Kiosk</th>\n",
       "      <th>Checkout_Method</th>\n",
       "      <th>Return_Date</th>\n",
       "      <th>Return_Time</th>\n",
       "      <th>Return_Kiosk</th>\n",
       "      <th>Trip_Duration</th>\n",
       "      <th>Trip_Distance</th>\n",
       "      <th>Checkout_WeekDay</th>\n",
       "      <th>Checkout_Month</th>\n",
       "    </tr>\n",
       "  </thead>\n",
       "  <tbody>\n",
       "    <tr>\n",
       "      <th>0</th>\n",
       "      <td>Denver B-cycle</td>\n",
       "      <td>1478826</td>\n",
       "      <td>24 hour online (Denver B-cycle)</td>\n",
       "      <td>324</td>\n",
       "      <td>2017-01-01</td>\n",
       "      <td>9</td>\n",
       "      <td>29th &amp; Zuni</td>\n",
       "      <td>Mobile</td>\n",
       "      <td>2017-01-01</td>\n",
       "      <td>10:07:00</td>\n",
       "      <td>17th &amp; Tejon</td>\n",
       "      <td>28</td>\n",
       "      <td>0.555</td>\n",
       "      <td>6</td>\n",
       "      <td>1</td>\n",
       "    </tr>\n",
       "  </tbody>\n",
       "</table>\n",
       "</div>"
      ],
      "text/plain": [
       "     User_Program  User_ID                  Membership_Type Bike_Number Checkout_Date  Checkout_Hour Checkout_Kiosk Checkout_Method Return_Date Return_Time  Return_Kiosk  Trip_Duration  Trip_Distance  Checkout_WeekDay  Checkout_Month\n",
       "0  Denver B-cycle  1478826  24 hour online (Denver B-cycle)         324    2017-01-01              9    29th & Zuni          Mobile  2017-01-01    10:07:00  17th & Tejon             28          0.555                 6               1"
      ]
     },
     "execution_count": 5,
     "metadata": {},
     "output_type": "execute_result"
    }
   ],
   "source": [
    "dF.head(1)"
   ]
  },
  {
   "cell_type": "code",
   "execution_count": 6,
   "metadata": {
    "collapsed": true
   },
   "outputs": [],
   "source": [
    "dF.drop(['User_Program'], axis = 1, inplace = True)\n",
    "dF.drop(['Membership_Type'], axis = 1, inplace = True)\n",
    "dF.drop(['User_ID'], axis = 1, inplace = True)\n",
    "dF.drop(['Bike_Number'], axis = 1, inplace = True)\n",
    "dF.drop(['Checkout_Kiosk'], axis = 1, inplace = True)\n",
    "dF.drop(['Checkout_Method'], axis = 1, inplace = True)\n",
    "dF.drop(['Return_Date'], axis = 1, inplace = True)\n",
    "dF.drop(['Return_Kiosk'], axis = 1, inplace = True)\n",
    "dF.drop(['Return_Time'], axis = 1, inplace = True)\n",
    "dF.drop(['Trip_Duration'], axis = 1, inplace = True)\n",
    "dF.drop(['Trip_Distance'], axis = 1, inplace = True)"
   ]
  },
  {
   "cell_type": "code",
   "execution_count": 7,
   "metadata": {},
   "outputs": [
    {
     "name": "stdout",
     "output_type": "stream",
     "text": [
      "<class 'pandas.core.frame.DataFrame'>\n",
      "RangeIndex: 322082 entries, 0 to 322081\n",
      "Data columns (total 4 columns):\n",
      "Checkout_Date       322082 non-null object\n",
      "Checkout_Hour       322082 non-null int64\n",
      "Checkout_WeekDay    322082 non-null int64\n",
      "Checkout_Month      322082 non-null int64\n",
      "dtypes: int64(3), object(1)\n",
      "memory usage: 9.8+ MB\n"
     ]
    }
   ],
   "source": [
    "dF.info()"
   ]
  },
  {
   "cell_type": "markdown",
   "metadata": {},
   "source": [
    "### Re-arrange columns to set up target class"
   ]
  },
  {
   "cell_type": "code",
   "execution_count": 8,
   "metadata": {
    "collapsed": true
   },
   "outputs": [],
   "source": [
    "# re-arrange columns in preparation for training and test data\n",
    "dF = dF[['Checkout_Date', 'Checkout_Month', 'Checkout_WeekDay', 'Checkout_Hour']]"
   ]
  },
  {
   "cell_type": "code",
   "execution_count": 9,
   "metadata": {},
   "outputs": [
    {
     "name": "stdout",
     "output_type": "stream",
     "text": [
      "<class 'pandas.core.frame.DataFrame'>\n",
      "RangeIndex: 322082 entries, 0 to 322081\n",
      "Data columns (total 4 columns):\n",
      "Checkout_Date       322082 non-null object\n",
      "Checkout_Month      322082 non-null int64\n",
      "Checkout_WeekDay    322082 non-null int64\n",
      "Checkout_Hour       322082 non-null int64\n",
      "dtypes: int64(3), object(1)\n",
      "memory usage: 9.8+ MB\n"
     ]
    }
   ],
   "source": [
    "dF.info()"
   ]
  },
  {
   "cell_type": "code",
   "execution_count": 10,
   "metadata": {
    "collapsed": true
   },
   "outputs": [],
   "source": [
    "dW = pd.read_csv(\"data/Denver_2017_Bike_Share_Hourly_Weather_Forecast.csv\")"
   ]
  },
  {
   "cell_type": "code",
   "execution_count": 11,
   "metadata": {
    "collapsed": true
   },
   "outputs": [],
   "source": [
    "dW.rename(columns = {'Hour': 'Checkout_Hour'}, inplace = True)"
   ]
  },
  {
   "cell_type": "code",
   "execution_count": 12,
   "metadata": {
    "collapsed": true
   },
   "outputs": [],
   "source": [
    "dW['Checkout_WeekDay'] = pd.DatetimeIndex(dW['Date']).weekday"
   ]
  },
  {
   "cell_type": "code",
   "execution_count": 13,
   "metadata": {
    "collapsed": true
   },
   "outputs": [],
   "source": [
    "dW['Checkout_Month'] = pd.DatetimeIndex(dW['Date']).month"
   ]
  },
  {
   "cell_type": "code",
   "execution_count": 14,
   "metadata": {
    "collapsed": true
   },
   "outputs": [],
   "source": [
    "dFW = dF.groupby(['Checkout_Date', 'Checkout_Month', 'Checkout_WeekDay', \n",
    "                  'Checkout_Hour']).size().to_frame(name = 'Number_Of_Checkouts').reset_index()"
   ]
  },
  {
   "cell_type": "code",
   "execution_count": 15,
   "metadata": {},
   "outputs": [
    {
     "name": "stdout",
     "output_type": "stream",
     "text": [
      "<class 'pandas.core.frame.DataFrame'>\n",
      "RangeIndex: 322082 entries, 0 to 322081\n",
      "Data columns (total 4 columns):\n",
      "Checkout_Date       322082 non-null object\n",
      "Checkout_Month      322082 non-null int64\n",
      "Checkout_WeekDay    322082 non-null int64\n",
      "Checkout_Hour       322082 non-null int64\n",
      "dtypes: int64(3), object(1)\n",
      "memory usage: 9.8+ MB\n"
     ]
    }
   ],
   "source": [
    "dF.info()"
   ]
  },
  {
   "cell_type": "code",
   "execution_count": 16,
   "metadata": {},
   "outputs": [
    {
     "data": {
      "text/plain": [
       "322082"
      ]
     },
     "execution_count": 16,
     "metadata": {},
     "output_type": "execute_result"
    }
   ],
   "source": [
    "dFW['Number_Of_Checkouts'].sum()"
   ]
  },
  {
   "cell_type": "code",
   "execution_count": 17,
   "metadata": {},
   "outputs": [
    {
     "name": "stdout",
     "output_type": "stream",
     "text": [
      "<class 'pandas.core.frame.DataFrame'>\n",
      "RangeIndex: 6864 entries, 0 to 6863\n",
      "Data columns (total 5 columns):\n",
      "Checkout_Date          6864 non-null object\n",
      "Checkout_Month         6864 non-null int64\n",
      "Checkout_WeekDay       6864 non-null int64\n",
      "Checkout_Hour          6864 non-null int64\n",
      "Number_Of_Checkouts    6864 non-null int64\n",
      "dtypes: int64(4), object(1)\n",
      "memory usage: 268.2+ KB\n"
     ]
    }
   ],
   "source": [
    "dFW.info()"
   ]
  },
  {
   "cell_type": "code",
   "execution_count": 18,
   "metadata": {},
   "outputs": [
    {
     "data": {
      "text/html": [
       "<div>\n",
       "<style scoped>\n",
       "    .dataframe tbody tr th:only-of-type {\n",
       "        vertical-align: middle;\n",
       "    }\n",
       "\n",
       "    .dataframe tbody tr th {\n",
       "        vertical-align: top;\n",
       "    }\n",
       "\n",
       "    .dataframe thead th {\n",
       "        text-align: right;\n",
       "    }\n",
       "</style>\n",
       "<table border=\"1\" class=\"dataframe\">\n",
       "  <thead>\n",
       "    <tr style=\"text-align: right;\">\n",
       "      <th></th>\n",
       "      <th>Checkout_Date</th>\n",
       "      <th>Checkout_Month</th>\n",
       "      <th>Checkout_WeekDay</th>\n",
       "      <th>Checkout_Hour</th>\n",
       "      <th>Number_Of_Checkouts</th>\n",
       "    </tr>\n",
       "  </thead>\n",
       "  <tbody>\n",
       "    <tr>\n",
       "      <th>0</th>\n",
       "      <td>2017-01-01</td>\n",
       "      <td>1</td>\n",
       "      <td>6</td>\n",
       "      <td>7</td>\n",
       "      <td>2</td>\n",
       "    </tr>\n",
       "    <tr>\n",
       "      <th>1</th>\n",
       "      <td>2017-01-01</td>\n",
       "      <td>1</td>\n",
       "      <td>6</td>\n",
       "      <td>8</td>\n",
       "      <td>4</td>\n",
       "    </tr>\n",
       "    <tr>\n",
       "      <th>2</th>\n",
       "      <td>2017-01-01</td>\n",
       "      <td>1</td>\n",
       "      <td>6</td>\n",
       "      <td>9</td>\n",
       "      <td>10</td>\n",
       "    </tr>\n",
       "    <tr>\n",
       "      <th>3</th>\n",
       "      <td>2017-01-01</td>\n",
       "      <td>1</td>\n",
       "      <td>6</td>\n",
       "      <td>10</td>\n",
       "      <td>27</td>\n",
       "    </tr>\n",
       "    <tr>\n",
       "      <th>4</th>\n",
       "      <td>2017-01-01</td>\n",
       "      <td>1</td>\n",
       "      <td>6</td>\n",
       "      <td>11</td>\n",
       "      <td>19</td>\n",
       "    </tr>\n",
       "  </tbody>\n",
       "</table>\n",
       "</div>"
      ],
      "text/plain": [
       "  Checkout_Date  Checkout_Month  Checkout_WeekDay  Checkout_Hour  Number_Of_Checkouts\n",
       "0    2017-01-01               1                 6              7                    2\n",
       "1    2017-01-01               1                 6              8                    4\n",
       "2    2017-01-01               1                 6              9                   10\n",
       "3    2017-01-01               1                 6             10                   27\n",
       "4    2017-01-01               1                 6             11                   19"
      ]
     },
     "execution_count": 18,
     "metadata": {},
     "output_type": "execute_result"
    }
   ],
   "source": [
    "dFW.head()"
   ]
  },
  {
   "cell_type": "code",
   "execution_count": 19,
   "metadata": {},
   "outputs": [
    {
     "name": "stdout",
     "output_type": "stream",
     "text": [
      "<class 'pandas.core.frame.DataFrame'>\n",
      "RangeIndex: 8760 entries, 0 to 8759\n",
      "Data columns (total 10 columns):\n",
      "Date                   8760 non-null object\n",
      "Checkout_Hour          8760 non-null int64\n",
      "apparentTemperature    8760 non-null float64\n",
      "cloudCover             8760 non-null float64\n",
      "humidity               8760 non-null float64\n",
      "temperature            8760 non-null float64\n",
      "visibility             8760 non-null float64\n",
      "windSpeed              8760 non-null float64\n",
      "Checkout_WeekDay       8760 non-null int64\n",
      "Checkout_Month         8760 non-null int64\n",
      "dtypes: float64(6), int64(3), object(1)\n",
      "memory usage: 684.5+ KB\n"
     ]
    }
   ],
   "source": [
    "dW.info()"
   ]
  },
  {
   "cell_type": "code",
   "execution_count": 20,
   "metadata": {},
   "outputs": [
    {
     "data": {
      "text/html": [
       "<div>\n",
       "<style scoped>\n",
       "    .dataframe tbody tr th:only-of-type {\n",
       "        vertical-align: middle;\n",
       "    }\n",
       "\n",
       "    .dataframe tbody tr th {\n",
       "        vertical-align: top;\n",
       "    }\n",
       "\n",
       "    .dataframe thead th {\n",
       "        text-align: right;\n",
       "    }\n",
       "</style>\n",
       "<table border=\"1\" class=\"dataframe\">\n",
       "  <thead>\n",
       "    <tr style=\"text-align: right;\">\n",
       "      <th></th>\n",
       "      <th>Date</th>\n",
       "      <th>Checkout_Hour</th>\n",
       "      <th>apparentTemperature</th>\n",
       "      <th>cloudCover</th>\n",
       "      <th>humidity</th>\n",
       "      <th>temperature</th>\n",
       "      <th>visibility</th>\n",
       "      <th>windSpeed</th>\n",
       "      <th>Checkout_WeekDay</th>\n",
       "      <th>Checkout_Month</th>\n",
       "    </tr>\n",
       "  </thead>\n",
       "  <tbody>\n",
       "    <tr>\n",
       "      <th>0</th>\n",
       "      <td>2017-01-01</td>\n",
       "      <td>0</td>\n",
       "      <td>34.49</td>\n",
       "      <td>0.15</td>\n",
       "      <td>0.42</td>\n",
       "      <td>38.18</td>\n",
       "      <td>10.0</td>\n",
       "      <td>4.81</td>\n",
       "      <td>6</td>\n",
       "      <td>1</td>\n",
       "    </tr>\n",
       "    <tr>\n",
       "      <th>1</th>\n",
       "      <td>2017-01-01</td>\n",
       "      <td>1</td>\n",
       "      <td>34.38</td>\n",
       "      <td>0.13</td>\n",
       "      <td>0.39</td>\n",
       "      <td>40.14</td>\n",
       "      <td>10.0</td>\n",
       "      <td>8.77</td>\n",
       "      <td>6</td>\n",
       "      <td>1</td>\n",
       "    </tr>\n",
       "    <tr>\n",
       "      <th>2</th>\n",
       "      <td>2017-01-01</td>\n",
       "      <td>2</td>\n",
       "      <td>35.99</td>\n",
       "      <td>0.22</td>\n",
       "      <td>0.36</td>\n",
       "      <td>42.15</td>\n",
       "      <td>10.0</td>\n",
       "      <td>10.79</td>\n",
       "      <td>6</td>\n",
       "      <td>1</td>\n",
       "    </tr>\n",
       "    <tr>\n",
       "      <th>3</th>\n",
       "      <td>2017-01-01</td>\n",
       "      <td>3</td>\n",
       "      <td>36.00</td>\n",
       "      <td>0.13</td>\n",
       "      <td>0.37</td>\n",
       "      <td>41.58</td>\n",
       "      <td>10.0</td>\n",
       "      <td>9.09</td>\n",
       "      <td>6</td>\n",
       "      <td>1</td>\n",
       "    </tr>\n",
       "    <tr>\n",
       "      <th>4</th>\n",
       "      <td>2017-01-01</td>\n",
       "      <td>4</td>\n",
       "      <td>36.69</td>\n",
       "      <td>0.14</td>\n",
       "      <td>0.38</td>\n",
       "      <td>41.79</td>\n",
       "      <td>10.0</td>\n",
       "      <td>8.17</td>\n",
       "      <td>6</td>\n",
       "      <td>1</td>\n",
       "    </tr>\n",
       "  </tbody>\n",
       "</table>\n",
       "</div>"
      ],
      "text/plain": [
       "         Date  Checkout_Hour  apparentTemperature  cloudCover  humidity  temperature  visibility  windSpeed  Checkout_WeekDay  Checkout_Month\n",
       "0  2017-01-01              0                34.49        0.15      0.42        38.18        10.0       4.81                 6               1\n",
       "1  2017-01-01              1                34.38        0.13      0.39        40.14        10.0       8.77                 6               1\n",
       "2  2017-01-01              2                35.99        0.22      0.36        42.15        10.0      10.79                 6               1\n",
       "3  2017-01-01              3                36.00        0.13      0.37        41.58        10.0       9.09                 6               1\n",
       "4  2017-01-01              4                36.69        0.14      0.38        41.79        10.0       8.17                 6               1"
      ]
     },
     "execution_count": 20,
     "metadata": {},
     "output_type": "execute_result"
    }
   ],
   "source": [
    "dW.head()"
   ]
  },
  {
   "cell_type": "code",
   "execution_count": 21,
   "metadata": {
    "collapsed": true
   },
   "outputs": [],
   "source": [
    "dT = pd.merge(dW, dFW, how='left', left_on=['Date', 'Checkout_Hour'], \n",
    "              right_on=['Checkout_Date', 'Checkout_Hour'])"
   ]
  },
  {
   "cell_type": "code",
   "execution_count": 22,
   "metadata": {},
   "outputs": [
    {
     "name": "stdout",
     "output_type": "stream",
     "text": [
      "<class 'pandas.core.frame.DataFrame'>\n",
      "Int64Index: 8760 entries, 0 to 8759\n",
      "Data columns (total 14 columns):\n",
      "Date                   8760 non-null object\n",
      "Checkout_Hour          8760 non-null int64\n",
      "apparentTemperature    8760 non-null float64\n",
      "cloudCover             8760 non-null float64\n",
      "humidity               8760 non-null float64\n",
      "temperature            8760 non-null float64\n",
      "visibility             8760 non-null float64\n",
      "windSpeed              8760 non-null float64\n",
      "Checkout_WeekDay_x     8760 non-null int64\n",
      "Checkout_Month_x       8760 non-null int64\n",
      "Checkout_Date          6863 non-null object\n",
      "Checkout_Month_y       6863 non-null float64\n",
      "Checkout_WeekDay_y     6863 non-null float64\n",
      "Number_Of_Checkouts    6863 non-null float64\n",
      "dtypes: float64(9), int64(3), object(2)\n",
      "memory usage: 1.0+ MB\n"
     ]
    }
   ],
   "source": [
    "dT.info()"
   ]
  },
  {
   "cell_type": "code",
   "execution_count": 23,
   "metadata": {},
   "outputs": [
    {
     "data": {
      "text/html": [
       "<div>\n",
       "<style scoped>\n",
       "    .dataframe tbody tr th:only-of-type {\n",
       "        vertical-align: middle;\n",
       "    }\n",
       "\n",
       "    .dataframe tbody tr th {\n",
       "        vertical-align: top;\n",
       "    }\n",
       "\n",
       "    .dataframe thead th {\n",
       "        text-align: right;\n",
       "    }\n",
       "</style>\n",
       "<table border=\"1\" class=\"dataframe\">\n",
       "  <thead>\n",
       "    <tr style=\"text-align: right;\">\n",
       "      <th></th>\n",
       "      <th>Date</th>\n",
       "      <th>Checkout_Hour</th>\n",
       "      <th>apparentTemperature</th>\n",
       "      <th>cloudCover</th>\n",
       "      <th>humidity</th>\n",
       "      <th>temperature</th>\n",
       "      <th>visibility</th>\n",
       "      <th>windSpeed</th>\n",
       "      <th>Checkout_WeekDay_x</th>\n",
       "      <th>Checkout_Month_x</th>\n",
       "      <th>Checkout_Date</th>\n",
       "      <th>Checkout_Month_y</th>\n",
       "      <th>Checkout_WeekDay_y</th>\n",
       "      <th>Number_Of_Checkouts</th>\n",
       "    </tr>\n",
       "  </thead>\n",
       "  <tbody>\n",
       "    <tr>\n",
       "      <th>8755</th>\n",
       "      <td>2017-12-31</td>\n",
       "      <td>19</td>\n",
       "      <td>5.53</td>\n",
       "      <td>0.31</td>\n",
       "      <td>0.80</td>\n",
       "      <td>12.15</td>\n",
       "      <td>8.77</td>\n",
       "      <td>3.76</td>\n",
       "      <td>6</td>\n",
       "      <td>12</td>\n",
       "      <td>2017-12-31</td>\n",
       "      <td>12.0</td>\n",
       "      <td>6.0</td>\n",
       "      <td>2.0</td>\n",
       "    </tr>\n",
       "    <tr>\n",
       "      <th>8756</th>\n",
       "      <td>2017-12-31</td>\n",
       "      <td>20</td>\n",
       "      <td>3.68</td>\n",
       "      <td>0.26</td>\n",
       "      <td>0.82</td>\n",
       "      <td>10.97</td>\n",
       "      <td>9.18</td>\n",
       "      <td>4.07</td>\n",
       "      <td>6</td>\n",
       "      <td>12</td>\n",
       "      <td>2017-12-31</td>\n",
       "      <td>12.0</td>\n",
       "      <td>6.0</td>\n",
       "      <td>1.0</td>\n",
       "    </tr>\n",
       "    <tr>\n",
       "      <th>8757</th>\n",
       "      <td>2017-12-31</td>\n",
       "      <td>21</td>\n",
       "      <td>3.77</td>\n",
       "      <td>0.26</td>\n",
       "      <td>0.84</td>\n",
       "      <td>10.47</td>\n",
       "      <td>9.09</td>\n",
       "      <td>3.66</td>\n",
       "      <td>6</td>\n",
       "      <td>12</td>\n",
       "      <td>2017-12-31</td>\n",
       "      <td>12.0</td>\n",
       "      <td>6.0</td>\n",
       "      <td>2.0</td>\n",
       "    </tr>\n",
       "    <tr>\n",
       "      <th>8758</th>\n",
       "      <td>2017-12-31</td>\n",
       "      <td>22</td>\n",
       "      <td>3.84</td>\n",
       "      <td>0.20</td>\n",
       "      <td>0.82</td>\n",
       "      <td>10.16</td>\n",
       "      <td>8.81</td>\n",
       "      <td>3.41</td>\n",
       "      <td>6</td>\n",
       "      <td>12</td>\n",
       "      <td>2017-12-31</td>\n",
       "      <td>12.0</td>\n",
       "      <td>6.0</td>\n",
       "      <td>5.0</td>\n",
       "    </tr>\n",
       "    <tr>\n",
       "      <th>8759</th>\n",
       "      <td>2017-12-31</td>\n",
       "      <td>23</td>\n",
       "      <td>10.33</td>\n",
       "      <td>0.56</td>\n",
       "      <td>0.81</td>\n",
       "      <td>10.33</td>\n",
       "      <td>8.67</td>\n",
       "      <td>2.54</td>\n",
       "      <td>6</td>\n",
       "      <td>12</td>\n",
       "      <td>2017-12-31</td>\n",
       "      <td>12.0</td>\n",
       "      <td>6.0</td>\n",
       "      <td>3.0</td>\n",
       "    </tr>\n",
       "  </tbody>\n",
       "</table>\n",
       "</div>"
      ],
      "text/plain": [
       "            Date  Checkout_Hour  apparentTemperature  cloudCover  humidity  temperature  visibility  windSpeed  Checkout_WeekDay_x  Checkout_Month_x Checkout_Date  Checkout_Month_y  Checkout_WeekDay_y  Number_Of_Checkouts\n",
       "8755  2017-12-31             19                 5.53        0.31      0.80        12.15        8.77       3.76                   6                12    2017-12-31              12.0                 6.0                  2.0\n",
       "8756  2017-12-31             20                 3.68        0.26      0.82        10.97        9.18       4.07                   6                12    2017-12-31              12.0                 6.0                  1.0\n",
       "8757  2017-12-31             21                 3.77        0.26      0.84        10.47        9.09       3.66                   6                12    2017-12-31              12.0                 6.0                  2.0\n",
       "8758  2017-12-31             22                 3.84        0.20      0.82        10.16        8.81       3.41                   6                12    2017-12-31              12.0                 6.0                  5.0\n",
       "8759  2017-12-31             23                10.33        0.56      0.81        10.33        8.67       2.54                   6                12    2017-12-31              12.0                 6.0                  3.0"
      ]
     },
     "execution_count": 23,
     "metadata": {},
     "output_type": "execute_result"
    }
   ],
   "source": [
    "dT.tail()"
   ]
  },
  {
   "cell_type": "code",
   "execution_count": 24,
   "metadata": {},
   "outputs": [
    {
     "data": {
      "text/plain": [
       "322079.0"
      ]
     },
     "execution_count": 24,
     "metadata": {},
     "output_type": "execute_result"
    }
   ],
   "source": [
    "dT['Number_Of_Checkouts'].sum()"
   ]
  },
  {
   "cell_type": "code",
   "execution_count": 25,
   "metadata": {},
   "outputs": [
    {
     "data": {
      "text/plain": [
       "True"
      ]
     },
     "execution_count": 25,
     "metadata": {},
     "output_type": "execute_result"
    }
   ],
   "source": [
    "dT.isnull().values.any()"
   ]
  },
  {
   "cell_type": "code",
   "execution_count": 26,
   "metadata": {
    "collapsed": true
   },
   "outputs": [],
   "source": [
    "nan_rows = dT[dT.isnull().T.any().T]"
   ]
  },
  {
   "cell_type": "code",
   "execution_count": 27,
   "metadata": {
    "collapsed": true
   },
   "outputs": [],
   "source": [
    "dT = dT.drop(dT.index[nan_rows.index])"
   ]
  },
  {
   "cell_type": "code",
   "execution_count": 28,
   "metadata": {},
   "outputs": [
    {
     "data": {
      "text/plain": [
       "False"
      ]
     },
     "execution_count": 28,
     "metadata": {},
     "output_type": "execute_result"
    }
   ],
   "source": [
    "dT.isnull().values.any()"
   ]
  },
  {
   "cell_type": "code",
   "execution_count": 29,
   "metadata": {},
   "outputs": [
    {
     "name": "stdout",
     "output_type": "stream",
     "text": [
      "<class 'pandas.core.frame.DataFrame'>\n",
      "Int64Index: 6863 entries, 7 to 8759\n",
      "Data columns (total 14 columns):\n",
      "Date                   6863 non-null object\n",
      "Checkout_Hour          6863 non-null int64\n",
      "apparentTemperature    6863 non-null float64\n",
      "cloudCover             6863 non-null float64\n",
      "humidity               6863 non-null float64\n",
      "temperature            6863 non-null float64\n",
      "visibility             6863 non-null float64\n",
      "windSpeed              6863 non-null float64\n",
      "Checkout_WeekDay_x     6863 non-null int64\n",
      "Checkout_Month_x       6863 non-null int64\n",
      "Checkout_Date          6863 non-null object\n",
      "Checkout_Month_y       6863 non-null float64\n",
      "Checkout_WeekDay_y     6863 non-null float64\n",
      "Number_Of_Checkouts    6863 non-null float64\n",
      "dtypes: float64(9), int64(3), object(2)\n",
      "memory usage: 804.3+ KB\n"
     ]
    }
   ],
   "source": [
    "dT.info()"
   ]
  },
  {
   "cell_type": "code",
   "execution_count": 30,
   "metadata": {},
   "outputs": [
    {
     "data": {
      "text/html": [
       "<div>\n",
       "<style scoped>\n",
       "    .dataframe tbody tr th:only-of-type {\n",
       "        vertical-align: middle;\n",
       "    }\n",
       "\n",
       "    .dataframe tbody tr th {\n",
       "        vertical-align: top;\n",
       "    }\n",
       "\n",
       "    .dataframe thead th {\n",
       "        text-align: right;\n",
       "    }\n",
       "</style>\n",
       "<table border=\"1\" class=\"dataframe\">\n",
       "  <thead>\n",
       "    <tr style=\"text-align: right;\">\n",
       "      <th></th>\n",
       "      <th>Date</th>\n",
       "      <th>Checkout_Hour</th>\n",
       "      <th>apparentTemperature</th>\n",
       "      <th>cloudCover</th>\n",
       "      <th>humidity</th>\n",
       "      <th>temperature</th>\n",
       "      <th>visibility</th>\n",
       "      <th>windSpeed</th>\n",
       "      <th>Checkout_WeekDay_x</th>\n",
       "      <th>Checkout_Month_x</th>\n",
       "      <th>Checkout_Date</th>\n",
       "      <th>Checkout_Month_y</th>\n",
       "      <th>Checkout_WeekDay_y</th>\n",
       "      <th>Number_Of_Checkouts</th>\n",
       "    </tr>\n",
       "  </thead>\n",
       "  <tbody>\n",
       "    <tr>\n",
       "      <th>7</th>\n",
       "      <td>2017-01-01</td>\n",
       "      <td>7</td>\n",
       "      <td>33.54</td>\n",
       "      <td>0.17</td>\n",
       "      <td>0.44</td>\n",
       "      <td>38.74</td>\n",
       "      <td>10.00</td>\n",
       "      <td>7.14</td>\n",
       "      <td>6</td>\n",
       "      <td>1</td>\n",
       "      <td>2017-01-01</td>\n",
       "      <td>1.0</td>\n",
       "      <td>6.0</td>\n",
       "      <td>2.0</td>\n",
       "    </tr>\n",
       "    <tr>\n",
       "      <th>8</th>\n",
       "      <td>2017-01-01</td>\n",
       "      <td>8</td>\n",
       "      <td>38.96</td>\n",
       "      <td>0.26</td>\n",
       "      <td>0.41</td>\n",
       "      <td>42.93</td>\n",
       "      <td>10.00</td>\n",
       "      <td>6.48</td>\n",
       "      <td>6</td>\n",
       "      <td>1</td>\n",
       "      <td>2017-01-01</td>\n",
       "      <td>1.0</td>\n",
       "      <td>6.0</td>\n",
       "      <td>4.0</td>\n",
       "    </tr>\n",
       "    <tr>\n",
       "      <th>9</th>\n",
       "      <td>2017-01-01</td>\n",
       "      <td>9</td>\n",
       "      <td>46.69</td>\n",
       "      <td>0.11</td>\n",
       "      <td>0.33</td>\n",
       "      <td>49.97</td>\n",
       "      <td>9.79</td>\n",
       "      <td>8.10</td>\n",
       "      <td>6</td>\n",
       "      <td>1</td>\n",
       "      <td>2017-01-01</td>\n",
       "      <td>1.0</td>\n",
       "      <td>6.0</td>\n",
       "      <td>10.0</td>\n",
       "    </tr>\n",
       "    <tr>\n",
       "      <th>10</th>\n",
       "      <td>2017-01-01</td>\n",
       "      <td>10</td>\n",
       "      <td>54.03</td>\n",
       "      <td>0.20</td>\n",
       "      <td>0.28</td>\n",
       "      <td>54.03</td>\n",
       "      <td>9.90</td>\n",
       "      <td>6.05</td>\n",
       "      <td>6</td>\n",
       "      <td>1</td>\n",
       "      <td>2017-01-01</td>\n",
       "      <td>1.0</td>\n",
       "      <td>6.0</td>\n",
       "      <td>27.0</td>\n",
       "    </tr>\n",
       "    <tr>\n",
       "      <th>11</th>\n",
       "      <td>2017-01-01</td>\n",
       "      <td>11</td>\n",
       "      <td>57.41</td>\n",
       "      <td>0.24</td>\n",
       "      <td>0.25</td>\n",
       "      <td>57.41</td>\n",
       "      <td>9.70</td>\n",
       "      <td>7.42</td>\n",
       "      <td>6</td>\n",
       "      <td>1</td>\n",
       "      <td>2017-01-01</td>\n",
       "      <td>1.0</td>\n",
       "      <td>6.0</td>\n",
       "      <td>19.0</td>\n",
       "    </tr>\n",
       "  </tbody>\n",
       "</table>\n",
       "</div>"
      ],
      "text/plain": [
       "          Date  Checkout_Hour  apparentTemperature  cloudCover  humidity  temperature  visibility  windSpeed  Checkout_WeekDay_x  Checkout_Month_x Checkout_Date  Checkout_Month_y  Checkout_WeekDay_y  Number_Of_Checkouts\n",
       "7   2017-01-01              7                33.54        0.17      0.44        38.74       10.00       7.14                   6                 1    2017-01-01               1.0                 6.0                  2.0\n",
       "8   2017-01-01              8                38.96        0.26      0.41        42.93       10.00       6.48                   6                 1    2017-01-01               1.0                 6.0                  4.0\n",
       "9   2017-01-01              9                46.69        0.11      0.33        49.97        9.79       8.10                   6                 1    2017-01-01               1.0                 6.0                 10.0\n",
       "10  2017-01-01             10                54.03        0.20      0.28        54.03        9.90       6.05                   6                 1    2017-01-01               1.0                 6.0                 27.0\n",
       "11  2017-01-01             11                57.41        0.24      0.25        57.41        9.70       7.42                   6                 1    2017-01-01               1.0                 6.0                 19.0"
      ]
     },
     "execution_count": 30,
     "metadata": {},
     "output_type": "execute_result"
    }
   ],
   "source": [
    "dT.head()"
   ]
  },
  {
   "cell_type": "code",
   "execution_count": 31,
   "metadata": {
    "collapsed": true
   },
   "outputs": [],
   "source": [
    "dT.drop(['Date', 'Checkout_WeekDay_y', 'Checkout_Month_y'], axis = 1, inplace = True)\n",
    "dT.rename(columns = {'cloudCover': 'Cloud_Cover', 'temperature': 'Temperature', 'apparentTemperature' : 'Apparent_Temperature',\n",
    "                     'windSpeed' : 'Wind_Speed', 'humidity' : 'Humidity', 'visibility' : 'Visibility',\n",
    "                     'Checkout_WeekDay_x': 'Checkout_WeekDay', 'Checkout_Month_x': 'Checkout_Month'}, inplace = True)"
   ]
  },
  {
   "cell_type": "markdown",
   "metadata": {},
   "source": [
    "### Discard Checkout_Hour <= 4 as there are no checkouts in these hours"
   ]
  },
  {
   "cell_type": "code",
   "execution_count": 32,
   "metadata": {
    "collapsed": true
   },
   "outputs": [],
   "source": [
    "dML = dT[~((dT.Checkout_Hour == 0)  | (dT.Checkout_Hour == 1)  | (dT.Checkout_Hour == 2)  | (dT.Checkout_Hour == 3)  |\n",
    "         (dT.Checkout_Hour == 4))]"
   ]
  },
  {
   "cell_type": "code",
   "execution_count": 33,
   "metadata": {},
   "outputs": [
    {
     "data": {
      "text/plain": [
       "(6840, 11)"
      ]
     },
     "execution_count": 33,
     "metadata": {},
     "output_type": "execute_result"
    }
   ],
   "source": [
    "dML.shape"
   ]
  },
  {
   "cell_type": "code",
   "execution_count": 34,
   "metadata": {
    "collapsed": true
   },
   "outputs": [],
   "source": [
    "data = dML.copy(deep=True)"
   ]
  },
  {
   "cell_type": "code",
   "execution_count": 35,
   "metadata": {
    "collapsed": true
   },
   "outputs": [],
   "source": [
    "data.rename(columns = {'cloudCover': 'Cloud_Cover', 'temperature': 'Temperature', 'apparentTemperature' : 'Apparent_Temperature',\n",
    "                     'windSpeed' : 'Wind_Speed', 'humidity' : 'Humidity', 'visibility' : 'Visibility'}, inplace = True)"
   ]
  },
  {
   "cell_type": "code",
   "execution_count": 36,
   "metadata": {
    "collapsed": true
   },
   "outputs": [],
   "source": [
    "data = data[['Checkout_Date', 'Checkout_Month', 'Checkout_WeekDay', 'Checkout_Hour', 'Temperature', 'Apparent_Temperature',\n",
    "             'Cloud_Cover', 'Humidity', 'Wind_Speed', 'Visibility', 'Number_Of_Checkouts']]"
   ]
  },
  {
   "cell_type": "code",
   "execution_count": 37,
   "metadata": {},
   "outputs": [
    {
     "data": {
      "text/html": [
       "<div>\n",
       "<style scoped>\n",
       "    .dataframe tbody tr th:only-of-type {\n",
       "        vertical-align: middle;\n",
       "    }\n",
       "\n",
       "    .dataframe tbody tr th {\n",
       "        vertical-align: top;\n",
       "    }\n",
       "\n",
       "    .dataframe thead th {\n",
       "        text-align: right;\n",
       "    }\n",
       "</style>\n",
       "<table border=\"1\" class=\"dataframe\">\n",
       "  <thead>\n",
       "    <tr style=\"text-align: right;\">\n",
       "      <th></th>\n",
       "      <th>Checkout_Date</th>\n",
       "      <th>Checkout_Month</th>\n",
       "      <th>Checkout_WeekDay</th>\n",
       "      <th>Checkout_Hour</th>\n",
       "      <th>Temperature</th>\n",
       "      <th>Apparent_Temperature</th>\n",
       "      <th>Cloud_Cover</th>\n",
       "      <th>Humidity</th>\n",
       "      <th>Wind_Speed</th>\n",
       "      <th>Visibility</th>\n",
       "      <th>Number_Of_Checkouts</th>\n",
       "    </tr>\n",
       "  </thead>\n",
       "  <tbody>\n",
       "    <tr>\n",
       "      <th>7</th>\n",
       "      <td>2017-01-01</td>\n",
       "      <td>1</td>\n",
       "      <td>6</td>\n",
       "      <td>7</td>\n",
       "      <td>38.74</td>\n",
       "      <td>33.54</td>\n",
       "      <td>0.17</td>\n",
       "      <td>0.44</td>\n",
       "      <td>7.14</td>\n",
       "      <td>10.00</td>\n",
       "      <td>2.0</td>\n",
       "    </tr>\n",
       "    <tr>\n",
       "      <th>8</th>\n",
       "      <td>2017-01-01</td>\n",
       "      <td>1</td>\n",
       "      <td>6</td>\n",
       "      <td>8</td>\n",
       "      <td>42.93</td>\n",
       "      <td>38.96</td>\n",
       "      <td>0.26</td>\n",
       "      <td>0.41</td>\n",
       "      <td>6.48</td>\n",
       "      <td>10.00</td>\n",
       "      <td>4.0</td>\n",
       "    </tr>\n",
       "    <tr>\n",
       "      <th>9</th>\n",
       "      <td>2017-01-01</td>\n",
       "      <td>1</td>\n",
       "      <td>6</td>\n",
       "      <td>9</td>\n",
       "      <td>49.97</td>\n",
       "      <td>46.69</td>\n",
       "      <td>0.11</td>\n",
       "      <td>0.33</td>\n",
       "      <td>8.10</td>\n",
       "      <td>9.79</td>\n",
       "      <td>10.0</td>\n",
       "    </tr>\n",
       "    <tr>\n",
       "      <th>10</th>\n",
       "      <td>2017-01-01</td>\n",
       "      <td>1</td>\n",
       "      <td>6</td>\n",
       "      <td>10</td>\n",
       "      <td>54.03</td>\n",
       "      <td>54.03</td>\n",
       "      <td>0.20</td>\n",
       "      <td>0.28</td>\n",
       "      <td>6.05</td>\n",
       "      <td>9.90</td>\n",
       "      <td>27.0</td>\n",
       "    </tr>\n",
       "    <tr>\n",
       "      <th>11</th>\n",
       "      <td>2017-01-01</td>\n",
       "      <td>1</td>\n",
       "      <td>6</td>\n",
       "      <td>11</td>\n",
       "      <td>57.41</td>\n",
       "      <td>57.41</td>\n",
       "      <td>0.24</td>\n",
       "      <td>0.25</td>\n",
       "      <td>7.42</td>\n",
       "      <td>9.70</td>\n",
       "      <td>19.0</td>\n",
       "    </tr>\n",
       "  </tbody>\n",
       "</table>\n",
       "</div>"
      ],
      "text/plain": [
       "   Checkout_Date  Checkout_Month  Checkout_WeekDay  Checkout_Hour  Temperature  Apparent_Temperature  Cloud_Cover  Humidity  Wind_Speed  Visibility  Number_Of_Checkouts\n",
       "7     2017-01-01               1                 6              7        38.74                 33.54         0.17      0.44        7.14       10.00                  2.0\n",
       "8     2017-01-01               1                 6              8        42.93                 38.96         0.26      0.41        6.48       10.00                  4.0\n",
       "9     2017-01-01               1                 6              9        49.97                 46.69         0.11      0.33        8.10        9.79                 10.0\n",
       "10    2017-01-01               1                 6             10        54.03                 54.03         0.20      0.28        6.05        9.90                 27.0\n",
       "11    2017-01-01               1                 6             11        57.41                 57.41         0.24      0.25        7.42        9.70                 19.0"
      ]
     },
     "execution_count": 37,
     "metadata": {},
     "output_type": "execute_result"
    }
   ],
   "source": [
    "data.head()"
   ]
  },
  {
   "cell_type": "markdown",
   "metadata": {},
   "source": [
    "### Convert the numeric Calendar and Clock columns into categorical columns"
   ]
  },
  {
   "cell_type": "code",
   "execution_count": 38,
   "metadata": {
    "collapsed": true
   },
   "outputs": [],
   "source": [
    "month_dummies = pd.get_dummies(data.Checkout_Month, prefix='month')"
   ]
  },
  {
   "cell_type": "code",
   "execution_count": 39,
   "metadata": {
    "collapsed": true
   },
   "outputs": [],
   "source": [
    "weekday_dummies = pd.get_dummies(data.Checkout_WeekDay, prefix='weekday')"
   ]
  },
  {
   "cell_type": "code",
   "execution_count": 40,
   "metadata": {
    "collapsed": true
   },
   "outputs": [],
   "source": [
    "hour_dummies = pd.get_dummies(data.Checkout_Hour, prefix='hour')"
   ]
  },
  {
   "cell_type": "code",
   "execution_count": 41,
   "metadata": {
    "collapsed": true
   },
   "outputs": [],
   "source": [
    "data = pd.concat([data, month_dummies, weekday_dummies, hour_dummies], axis=1)"
   ]
  },
  {
   "cell_type": "code",
   "execution_count": 42,
   "metadata": {},
   "outputs": [
    {
     "data": {
      "text/html": [
       "<div>\n",
       "<style scoped>\n",
       "    .dataframe tbody tr th:only-of-type {\n",
       "        vertical-align: middle;\n",
       "    }\n",
       "\n",
       "    .dataframe tbody tr th {\n",
       "        vertical-align: top;\n",
       "    }\n",
       "\n",
       "    .dataframe thead th {\n",
       "        text-align: right;\n",
       "    }\n",
       "</style>\n",
       "<table border=\"1\" class=\"dataframe\">\n",
       "  <thead>\n",
       "    <tr style=\"text-align: right;\">\n",
       "      <th></th>\n",
       "      <th>Checkout_Date</th>\n",
       "      <th>Checkout_Month</th>\n",
       "      <th>Checkout_WeekDay</th>\n",
       "      <th>Checkout_Hour</th>\n",
       "      <th>Temperature</th>\n",
       "      <th>Apparent_Temperature</th>\n",
       "      <th>Cloud_Cover</th>\n",
       "      <th>Humidity</th>\n",
       "      <th>Wind_Speed</th>\n",
       "      <th>Visibility</th>\n",
       "      <th>Number_Of_Checkouts</th>\n",
       "      <th>month_1</th>\n",
       "      <th>month_2</th>\n",
       "      <th>month_3</th>\n",
       "      <th>month_4</th>\n",
       "      <th>month_5</th>\n",
       "      <th>month_6</th>\n",
       "      <th>month_7</th>\n",
       "      <th>month_8</th>\n",
       "      <th>month_9</th>\n",
       "      <th>month_10</th>\n",
       "      <th>month_11</th>\n",
       "      <th>month_12</th>\n",
       "      <th>weekday_0</th>\n",
       "      <th>weekday_1</th>\n",
       "      <th>weekday_2</th>\n",
       "      <th>weekday_3</th>\n",
       "      <th>weekday_4</th>\n",
       "      <th>weekday_5</th>\n",
       "      <th>weekday_6</th>\n",
       "      <th>hour_5</th>\n",
       "      <th>hour_6</th>\n",
       "      <th>hour_7</th>\n",
       "      <th>hour_8</th>\n",
       "      <th>hour_9</th>\n",
       "      <th>hour_10</th>\n",
       "      <th>hour_11</th>\n",
       "      <th>hour_12</th>\n",
       "      <th>hour_13</th>\n",
       "      <th>hour_14</th>\n",
       "      <th>hour_15</th>\n",
       "      <th>hour_16</th>\n",
       "      <th>hour_17</th>\n",
       "      <th>hour_18</th>\n",
       "      <th>hour_19</th>\n",
       "      <th>hour_20</th>\n",
       "      <th>hour_21</th>\n",
       "      <th>hour_22</th>\n",
       "      <th>hour_23</th>\n",
       "    </tr>\n",
       "  </thead>\n",
       "  <tbody>\n",
       "    <tr>\n",
       "      <th>7</th>\n",
       "      <td>2017-01-01</td>\n",
       "      <td>1</td>\n",
       "      <td>6</td>\n",
       "      <td>7</td>\n",
       "      <td>38.74</td>\n",
       "      <td>33.54</td>\n",
       "      <td>0.17</td>\n",
       "      <td>0.44</td>\n",
       "      <td>7.14</td>\n",
       "      <td>10.00</td>\n",
       "      <td>2.0</td>\n",
       "      <td>1</td>\n",
       "      <td>0</td>\n",
       "      <td>0</td>\n",
       "      <td>0</td>\n",
       "      <td>0</td>\n",
       "      <td>0</td>\n",
       "      <td>0</td>\n",
       "      <td>0</td>\n",
       "      <td>0</td>\n",
       "      <td>0</td>\n",
       "      <td>0</td>\n",
       "      <td>0</td>\n",
       "      <td>0</td>\n",
       "      <td>0</td>\n",
       "      <td>0</td>\n",
       "      <td>0</td>\n",
       "      <td>0</td>\n",
       "      <td>0</td>\n",
       "      <td>1</td>\n",
       "      <td>0</td>\n",
       "      <td>0</td>\n",
       "      <td>1</td>\n",
       "      <td>0</td>\n",
       "      <td>0</td>\n",
       "      <td>0</td>\n",
       "      <td>0</td>\n",
       "      <td>0</td>\n",
       "      <td>0</td>\n",
       "      <td>0</td>\n",
       "      <td>0</td>\n",
       "      <td>0</td>\n",
       "      <td>0</td>\n",
       "      <td>0</td>\n",
       "      <td>0</td>\n",
       "      <td>0</td>\n",
       "      <td>0</td>\n",
       "      <td>0</td>\n",
       "      <td>0</td>\n",
       "    </tr>\n",
       "    <tr>\n",
       "      <th>8</th>\n",
       "      <td>2017-01-01</td>\n",
       "      <td>1</td>\n",
       "      <td>6</td>\n",
       "      <td>8</td>\n",
       "      <td>42.93</td>\n",
       "      <td>38.96</td>\n",
       "      <td>0.26</td>\n",
       "      <td>0.41</td>\n",
       "      <td>6.48</td>\n",
       "      <td>10.00</td>\n",
       "      <td>4.0</td>\n",
       "      <td>1</td>\n",
       "      <td>0</td>\n",
       "      <td>0</td>\n",
       "      <td>0</td>\n",
       "      <td>0</td>\n",
       "      <td>0</td>\n",
       "      <td>0</td>\n",
       "      <td>0</td>\n",
       "      <td>0</td>\n",
       "      <td>0</td>\n",
       "      <td>0</td>\n",
       "      <td>0</td>\n",
       "      <td>0</td>\n",
       "      <td>0</td>\n",
       "      <td>0</td>\n",
       "      <td>0</td>\n",
       "      <td>0</td>\n",
       "      <td>0</td>\n",
       "      <td>1</td>\n",
       "      <td>0</td>\n",
       "      <td>0</td>\n",
       "      <td>0</td>\n",
       "      <td>1</td>\n",
       "      <td>0</td>\n",
       "      <td>0</td>\n",
       "      <td>0</td>\n",
       "      <td>0</td>\n",
       "      <td>0</td>\n",
       "      <td>0</td>\n",
       "      <td>0</td>\n",
       "      <td>0</td>\n",
       "      <td>0</td>\n",
       "      <td>0</td>\n",
       "      <td>0</td>\n",
       "      <td>0</td>\n",
       "      <td>0</td>\n",
       "      <td>0</td>\n",
       "      <td>0</td>\n",
       "    </tr>\n",
       "    <tr>\n",
       "      <th>9</th>\n",
       "      <td>2017-01-01</td>\n",
       "      <td>1</td>\n",
       "      <td>6</td>\n",
       "      <td>9</td>\n",
       "      <td>49.97</td>\n",
       "      <td>46.69</td>\n",
       "      <td>0.11</td>\n",
       "      <td>0.33</td>\n",
       "      <td>8.10</td>\n",
       "      <td>9.79</td>\n",
       "      <td>10.0</td>\n",
       "      <td>1</td>\n",
       "      <td>0</td>\n",
       "      <td>0</td>\n",
       "      <td>0</td>\n",
       "      <td>0</td>\n",
       "      <td>0</td>\n",
       "      <td>0</td>\n",
       "      <td>0</td>\n",
       "      <td>0</td>\n",
       "      <td>0</td>\n",
       "      <td>0</td>\n",
       "      <td>0</td>\n",
       "      <td>0</td>\n",
       "      <td>0</td>\n",
       "      <td>0</td>\n",
       "      <td>0</td>\n",
       "      <td>0</td>\n",
       "      <td>0</td>\n",
       "      <td>1</td>\n",
       "      <td>0</td>\n",
       "      <td>0</td>\n",
       "      <td>0</td>\n",
       "      <td>0</td>\n",
       "      <td>1</td>\n",
       "      <td>0</td>\n",
       "      <td>0</td>\n",
       "      <td>0</td>\n",
       "      <td>0</td>\n",
       "      <td>0</td>\n",
       "      <td>0</td>\n",
       "      <td>0</td>\n",
       "      <td>0</td>\n",
       "      <td>0</td>\n",
       "      <td>0</td>\n",
       "      <td>0</td>\n",
       "      <td>0</td>\n",
       "      <td>0</td>\n",
       "      <td>0</td>\n",
       "    </tr>\n",
       "    <tr>\n",
       "      <th>10</th>\n",
       "      <td>2017-01-01</td>\n",
       "      <td>1</td>\n",
       "      <td>6</td>\n",
       "      <td>10</td>\n",
       "      <td>54.03</td>\n",
       "      <td>54.03</td>\n",
       "      <td>0.20</td>\n",
       "      <td>0.28</td>\n",
       "      <td>6.05</td>\n",
       "      <td>9.90</td>\n",
       "      <td>27.0</td>\n",
       "      <td>1</td>\n",
       "      <td>0</td>\n",
       "      <td>0</td>\n",
       "      <td>0</td>\n",
       "      <td>0</td>\n",
       "      <td>0</td>\n",
       "      <td>0</td>\n",
       "      <td>0</td>\n",
       "      <td>0</td>\n",
       "      <td>0</td>\n",
       "      <td>0</td>\n",
       "      <td>0</td>\n",
       "      <td>0</td>\n",
       "      <td>0</td>\n",
       "      <td>0</td>\n",
       "      <td>0</td>\n",
       "      <td>0</td>\n",
       "      <td>0</td>\n",
       "      <td>1</td>\n",
       "      <td>0</td>\n",
       "      <td>0</td>\n",
       "      <td>0</td>\n",
       "      <td>0</td>\n",
       "      <td>0</td>\n",
       "      <td>1</td>\n",
       "      <td>0</td>\n",
       "      <td>0</td>\n",
       "      <td>0</td>\n",
       "      <td>0</td>\n",
       "      <td>0</td>\n",
       "      <td>0</td>\n",
       "      <td>0</td>\n",
       "      <td>0</td>\n",
       "      <td>0</td>\n",
       "      <td>0</td>\n",
       "      <td>0</td>\n",
       "      <td>0</td>\n",
       "      <td>0</td>\n",
       "    </tr>\n",
       "    <tr>\n",
       "      <th>11</th>\n",
       "      <td>2017-01-01</td>\n",
       "      <td>1</td>\n",
       "      <td>6</td>\n",
       "      <td>11</td>\n",
       "      <td>57.41</td>\n",
       "      <td>57.41</td>\n",
       "      <td>0.24</td>\n",
       "      <td>0.25</td>\n",
       "      <td>7.42</td>\n",
       "      <td>9.70</td>\n",
       "      <td>19.0</td>\n",
       "      <td>1</td>\n",
       "      <td>0</td>\n",
       "      <td>0</td>\n",
       "      <td>0</td>\n",
       "      <td>0</td>\n",
       "      <td>0</td>\n",
       "      <td>0</td>\n",
       "      <td>0</td>\n",
       "      <td>0</td>\n",
       "      <td>0</td>\n",
       "      <td>0</td>\n",
       "      <td>0</td>\n",
       "      <td>0</td>\n",
       "      <td>0</td>\n",
       "      <td>0</td>\n",
       "      <td>0</td>\n",
       "      <td>0</td>\n",
       "      <td>0</td>\n",
       "      <td>1</td>\n",
       "      <td>0</td>\n",
       "      <td>0</td>\n",
       "      <td>0</td>\n",
       "      <td>0</td>\n",
       "      <td>0</td>\n",
       "      <td>0</td>\n",
       "      <td>1</td>\n",
       "      <td>0</td>\n",
       "      <td>0</td>\n",
       "      <td>0</td>\n",
       "      <td>0</td>\n",
       "      <td>0</td>\n",
       "      <td>0</td>\n",
       "      <td>0</td>\n",
       "      <td>0</td>\n",
       "      <td>0</td>\n",
       "      <td>0</td>\n",
       "      <td>0</td>\n",
       "      <td>0</td>\n",
       "    </tr>\n",
       "  </tbody>\n",
       "</table>\n",
       "</div>"
      ],
      "text/plain": [
       "   Checkout_Date  Checkout_Month  Checkout_WeekDay  Checkout_Hour  Temperature  Apparent_Temperature  Cloud_Cover  Humidity  Wind_Speed  Visibility  Number_Of_Checkouts  month_1  month_2  month_3  month_4  month_5  month_6  month_7  month_8  month_9  month_10  month_11  month_12  weekday_0  weekday_1  weekday_2  weekday_3  weekday_4  weekday_5  weekday_6  hour_5  hour_6  hour_7  hour_8  hour_9  hour_10  hour_11  hour_12  hour_13  hour_14  hour_15  hour_16  hour_17  hour_18  hour_19  hour_20  hour_21  hour_22  hour_23\n",
       "7     2017-01-01               1                 6              7        38.74                 33.54         0.17      0.44        7.14       10.00                  2.0        1        0        0        0        0        0        0        0        0         0         0         0          0          0          0          0          0          0          1       0       0       1       0       0        0        0        0        0        0        0        0        0        0        0        0        0        0        0\n",
       "8     2017-01-01               1                 6              8        42.93                 38.96         0.26      0.41        6.48       10.00                  4.0        1        0        0        0        0        0        0        0        0         0         0         0          0          0          0          0          0          0          1       0       0       0       1       0        0        0        0        0        0        0        0        0        0        0        0        0        0        0\n",
       "9     2017-01-01               1                 6              9        49.97                 46.69         0.11      0.33        8.10        9.79                 10.0        1        0        0        0        0        0        0        0        0         0         0         0          0          0          0          0          0          0          1       0       0       0       0       1        0        0        0        0        0        0        0        0        0        0        0        0        0        0\n",
       "10    2017-01-01               1                 6             10        54.03                 54.03         0.20      0.28        6.05        9.90                 27.0        1        0        0        0        0        0        0        0        0         0         0         0          0          0          0          0          0          0          1       0       0       0       0       0        1        0        0        0        0        0        0        0        0        0        0        0        0        0\n",
       "11    2017-01-01               1                 6             11        57.41                 57.41         0.24      0.25        7.42        9.70                 19.0        1        0        0        0        0        0        0        0        0         0         0         0          0          0          0          0          0          0          1       0       0       0       0       0        0        1        0        0        0        0        0        0        0        0        0        0        0        0"
      ]
     },
     "execution_count": 42,
     "metadata": {},
     "output_type": "execute_result"
    }
   ],
   "source": [
    "data.head()"
   ]
  },
  {
   "cell_type": "markdown",
   "metadata": {},
   "source": [
    "### Keep 10 samples aside for use in prediction on unseen samples"
   ]
  },
  {
   "cell_type": "code",
   "execution_count": 43,
   "metadata": {
    "collapsed": true
   },
   "outputs": [],
   "source": [
    "dUT = data.sample(n=10, random_state=123)"
   ]
  },
  {
   "cell_type": "code",
   "execution_count": 44,
   "metadata": {
    "collapsed": true
   },
   "outputs": [],
   "source": [
    "del_rows = dUT.index"
   ]
  },
  {
   "cell_type": "code",
   "execution_count": 45,
   "metadata": {
    "collapsed": true
   },
   "outputs": [],
   "source": [
    "data.drop(del_rows, axis=0, inplace=True)"
   ]
  },
  {
   "cell_type": "code",
   "execution_count": 46,
   "metadata": {},
   "outputs": [
    {
     "name": "stdout",
     "output_type": "stream",
     "text": [
      "<class 'pandas.core.frame.DataFrame'>\n",
      "Int64Index: 6830 entries, 7 to 8759\n",
      "Data columns (total 49 columns):\n",
      "Checkout_Date           6830 non-null object\n",
      "Checkout_Month          6830 non-null int64\n",
      "Checkout_WeekDay        6830 non-null int64\n",
      "Checkout_Hour           6830 non-null int64\n",
      "Temperature             6830 non-null float64\n",
      "Apparent_Temperature    6830 non-null float64\n",
      "Cloud_Cover             6830 non-null float64\n",
      "Humidity                6830 non-null float64\n",
      "Wind_Speed              6830 non-null float64\n",
      "Visibility              6830 non-null float64\n",
      "Number_Of_Checkouts     6830 non-null float64\n",
      "month_1                 6830 non-null uint8\n",
      "month_2                 6830 non-null uint8\n",
      "month_3                 6830 non-null uint8\n",
      "month_4                 6830 non-null uint8\n",
      "month_5                 6830 non-null uint8\n",
      "month_6                 6830 non-null uint8\n",
      "month_7                 6830 non-null uint8\n",
      "month_8                 6830 non-null uint8\n",
      "month_9                 6830 non-null uint8\n",
      "month_10                6830 non-null uint8\n",
      "month_11                6830 non-null uint8\n",
      "month_12                6830 non-null uint8\n",
      "weekday_0               6830 non-null uint8\n",
      "weekday_1               6830 non-null uint8\n",
      "weekday_2               6830 non-null uint8\n",
      "weekday_3               6830 non-null uint8\n",
      "weekday_4               6830 non-null uint8\n",
      "weekday_5               6830 non-null uint8\n",
      "weekday_6               6830 non-null uint8\n",
      "hour_5                  6830 non-null uint8\n",
      "hour_6                  6830 non-null uint8\n",
      "hour_7                  6830 non-null uint8\n",
      "hour_8                  6830 non-null uint8\n",
      "hour_9                  6830 non-null uint8\n",
      "hour_10                 6830 non-null uint8\n",
      "hour_11                 6830 non-null uint8\n",
      "hour_12                 6830 non-null uint8\n",
      "hour_13                 6830 non-null uint8\n",
      "hour_14                 6830 non-null uint8\n",
      "hour_15                 6830 non-null uint8\n",
      "hour_16                 6830 non-null uint8\n",
      "hour_17                 6830 non-null uint8\n",
      "hour_18                 6830 non-null uint8\n",
      "hour_19                 6830 non-null uint8\n",
      "hour_20                 6830 non-null uint8\n",
      "hour_21                 6830 non-null uint8\n",
      "hour_22                 6830 non-null uint8\n",
      "hour_23                 6830 non-null uint8\n",
      "dtypes: float64(7), int64(3), object(1), uint8(38)\n",
      "memory usage: 893.8+ KB\n"
     ]
    }
   ],
   "source": [
    "data.info()"
   ]
  },
  {
   "cell_type": "code",
   "execution_count": 47,
   "metadata": {
    "collapsed": true
   },
   "outputs": [],
   "source": [
    "data = data[['month_1', 'month_2', 'month_3', 'month_4', 'month_5', 'month_6', 'month_7', 'month_8',\n",
    "             'month_9', 'month_10', 'month_11', 'month_12',\n",
    "             'weekday_0', 'weekday_1', 'weekday_2', 'weekday_3', 'weekday_4', 'weekday_5', 'weekday_6',\n",
    "             'hour_5', 'hour_6', 'hour_7', 'hour_8', 'hour_9', 'hour_10', 'hour_11', 'hour_12', 'hour_13',\n",
    "             'hour_14', 'hour_15', 'hour_16', 'hour_17',\n",
    "             'hour_18', 'hour_19', 'hour_20', 'hour_21', 'hour_22', 'hour_23',\n",
    "             'Checkout_Month', 'Checkout_WeekDay', 'Checkout_Hour',\n",
    "             'Temperature', 'Apparent_Temperature', 'Cloud_Cover', 'Wind_Speed', 'Humidity', 'Visibility',\n",
    "             'Number_Of_Checkouts']]"
   ]
  },
  {
   "cell_type": "code",
   "execution_count": 48,
   "metadata": {},
   "outputs": [
    {
     "data": {
      "text/html": [
       "<div>\n",
       "<style scoped>\n",
       "    .dataframe tbody tr th:only-of-type {\n",
       "        vertical-align: middle;\n",
       "    }\n",
       "\n",
       "    .dataframe tbody tr th {\n",
       "        vertical-align: top;\n",
       "    }\n",
       "\n",
       "    .dataframe thead th {\n",
       "        text-align: right;\n",
       "    }\n",
       "</style>\n",
       "<table border=\"1\" class=\"dataframe\">\n",
       "  <thead>\n",
       "    <tr style=\"text-align: right;\">\n",
       "      <th></th>\n",
       "      <th>month_1</th>\n",
       "      <th>month_2</th>\n",
       "      <th>month_3</th>\n",
       "      <th>month_4</th>\n",
       "      <th>month_5</th>\n",
       "      <th>month_6</th>\n",
       "      <th>month_7</th>\n",
       "      <th>month_8</th>\n",
       "      <th>month_9</th>\n",
       "      <th>month_10</th>\n",
       "      <th>month_11</th>\n",
       "      <th>month_12</th>\n",
       "      <th>weekday_0</th>\n",
       "      <th>weekday_1</th>\n",
       "      <th>weekday_2</th>\n",
       "      <th>weekday_3</th>\n",
       "      <th>weekday_4</th>\n",
       "      <th>weekday_5</th>\n",
       "      <th>weekday_6</th>\n",
       "      <th>hour_5</th>\n",
       "      <th>hour_6</th>\n",
       "      <th>hour_7</th>\n",
       "      <th>hour_8</th>\n",
       "      <th>hour_9</th>\n",
       "      <th>hour_10</th>\n",
       "      <th>hour_11</th>\n",
       "      <th>hour_12</th>\n",
       "      <th>hour_13</th>\n",
       "      <th>hour_14</th>\n",
       "      <th>hour_15</th>\n",
       "      <th>hour_16</th>\n",
       "      <th>hour_17</th>\n",
       "      <th>hour_18</th>\n",
       "      <th>hour_19</th>\n",
       "      <th>hour_20</th>\n",
       "      <th>hour_21</th>\n",
       "      <th>hour_22</th>\n",
       "      <th>hour_23</th>\n",
       "      <th>Checkout_Month</th>\n",
       "      <th>Checkout_WeekDay</th>\n",
       "      <th>Checkout_Hour</th>\n",
       "      <th>Temperature</th>\n",
       "      <th>Apparent_Temperature</th>\n",
       "      <th>Cloud_Cover</th>\n",
       "      <th>Wind_Speed</th>\n",
       "      <th>Humidity</th>\n",
       "      <th>Visibility</th>\n",
       "      <th>Number_Of_Checkouts</th>\n",
       "    </tr>\n",
       "  </thead>\n",
       "  <tbody>\n",
       "    <tr>\n",
       "      <th>7</th>\n",
       "      <td>1</td>\n",
       "      <td>0</td>\n",
       "      <td>0</td>\n",
       "      <td>0</td>\n",
       "      <td>0</td>\n",
       "      <td>0</td>\n",
       "      <td>0</td>\n",
       "      <td>0</td>\n",
       "      <td>0</td>\n",
       "      <td>0</td>\n",
       "      <td>0</td>\n",
       "      <td>0</td>\n",
       "      <td>0</td>\n",
       "      <td>0</td>\n",
       "      <td>0</td>\n",
       "      <td>0</td>\n",
       "      <td>0</td>\n",
       "      <td>0</td>\n",
       "      <td>1</td>\n",
       "      <td>0</td>\n",
       "      <td>0</td>\n",
       "      <td>1</td>\n",
       "      <td>0</td>\n",
       "      <td>0</td>\n",
       "      <td>0</td>\n",
       "      <td>0</td>\n",
       "      <td>0</td>\n",
       "      <td>0</td>\n",
       "      <td>0</td>\n",
       "      <td>0</td>\n",
       "      <td>0</td>\n",
       "      <td>0</td>\n",
       "      <td>0</td>\n",
       "      <td>0</td>\n",
       "      <td>0</td>\n",
       "      <td>0</td>\n",
       "      <td>0</td>\n",
       "      <td>0</td>\n",
       "      <td>1</td>\n",
       "      <td>6</td>\n",
       "      <td>7</td>\n",
       "      <td>38.74</td>\n",
       "      <td>33.54</td>\n",
       "      <td>0.17</td>\n",
       "      <td>7.14</td>\n",
       "      <td>0.44</td>\n",
       "      <td>10.00</td>\n",
       "      <td>2.0</td>\n",
       "    </tr>\n",
       "    <tr>\n",
       "      <th>8</th>\n",
       "      <td>1</td>\n",
       "      <td>0</td>\n",
       "      <td>0</td>\n",
       "      <td>0</td>\n",
       "      <td>0</td>\n",
       "      <td>0</td>\n",
       "      <td>0</td>\n",
       "      <td>0</td>\n",
       "      <td>0</td>\n",
       "      <td>0</td>\n",
       "      <td>0</td>\n",
       "      <td>0</td>\n",
       "      <td>0</td>\n",
       "      <td>0</td>\n",
       "      <td>0</td>\n",
       "      <td>0</td>\n",
       "      <td>0</td>\n",
       "      <td>0</td>\n",
       "      <td>1</td>\n",
       "      <td>0</td>\n",
       "      <td>0</td>\n",
       "      <td>0</td>\n",
       "      <td>1</td>\n",
       "      <td>0</td>\n",
       "      <td>0</td>\n",
       "      <td>0</td>\n",
       "      <td>0</td>\n",
       "      <td>0</td>\n",
       "      <td>0</td>\n",
       "      <td>0</td>\n",
       "      <td>0</td>\n",
       "      <td>0</td>\n",
       "      <td>0</td>\n",
       "      <td>0</td>\n",
       "      <td>0</td>\n",
       "      <td>0</td>\n",
       "      <td>0</td>\n",
       "      <td>0</td>\n",
       "      <td>1</td>\n",
       "      <td>6</td>\n",
       "      <td>8</td>\n",
       "      <td>42.93</td>\n",
       "      <td>38.96</td>\n",
       "      <td>0.26</td>\n",
       "      <td>6.48</td>\n",
       "      <td>0.41</td>\n",
       "      <td>10.00</td>\n",
       "      <td>4.0</td>\n",
       "    </tr>\n",
       "    <tr>\n",
       "      <th>9</th>\n",
       "      <td>1</td>\n",
       "      <td>0</td>\n",
       "      <td>0</td>\n",
       "      <td>0</td>\n",
       "      <td>0</td>\n",
       "      <td>0</td>\n",
       "      <td>0</td>\n",
       "      <td>0</td>\n",
       "      <td>0</td>\n",
       "      <td>0</td>\n",
       "      <td>0</td>\n",
       "      <td>0</td>\n",
       "      <td>0</td>\n",
       "      <td>0</td>\n",
       "      <td>0</td>\n",
       "      <td>0</td>\n",
       "      <td>0</td>\n",
       "      <td>0</td>\n",
       "      <td>1</td>\n",
       "      <td>0</td>\n",
       "      <td>0</td>\n",
       "      <td>0</td>\n",
       "      <td>0</td>\n",
       "      <td>1</td>\n",
       "      <td>0</td>\n",
       "      <td>0</td>\n",
       "      <td>0</td>\n",
       "      <td>0</td>\n",
       "      <td>0</td>\n",
       "      <td>0</td>\n",
       "      <td>0</td>\n",
       "      <td>0</td>\n",
       "      <td>0</td>\n",
       "      <td>0</td>\n",
       "      <td>0</td>\n",
       "      <td>0</td>\n",
       "      <td>0</td>\n",
       "      <td>0</td>\n",
       "      <td>1</td>\n",
       "      <td>6</td>\n",
       "      <td>9</td>\n",
       "      <td>49.97</td>\n",
       "      <td>46.69</td>\n",
       "      <td>0.11</td>\n",
       "      <td>8.10</td>\n",
       "      <td>0.33</td>\n",
       "      <td>9.79</td>\n",
       "      <td>10.0</td>\n",
       "    </tr>\n",
       "    <tr>\n",
       "      <th>10</th>\n",
       "      <td>1</td>\n",
       "      <td>0</td>\n",
       "      <td>0</td>\n",
       "      <td>0</td>\n",
       "      <td>0</td>\n",
       "      <td>0</td>\n",
       "      <td>0</td>\n",
       "      <td>0</td>\n",
       "      <td>0</td>\n",
       "      <td>0</td>\n",
       "      <td>0</td>\n",
       "      <td>0</td>\n",
       "      <td>0</td>\n",
       "      <td>0</td>\n",
       "      <td>0</td>\n",
       "      <td>0</td>\n",
       "      <td>0</td>\n",
       "      <td>0</td>\n",
       "      <td>1</td>\n",
       "      <td>0</td>\n",
       "      <td>0</td>\n",
       "      <td>0</td>\n",
       "      <td>0</td>\n",
       "      <td>0</td>\n",
       "      <td>1</td>\n",
       "      <td>0</td>\n",
       "      <td>0</td>\n",
       "      <td>0</td>\n",
       "      <td>0</td>\n",
       "      <td>0</td>\n",
       "      <td>0</td>\n",
       "      <td>0</td>\n",
       "      <td>0</td>\n",
       "      <td>0</td>\n",
       "      <td>0</td>\n",
       "      <td>0</td>\n",
       "      <td>0</td>\n",
       "      <td>0</td>\n",
       "      <td>1</td>\n",
       "      <td>6</td>\n",
       "      <td>10</td>\n",
       "      <td>54.03</td>\n",
       "      <td>54.03</td>\n",
       "      <td>0.20</td>\n",
       "      <td>6.05</td>\n",
       "      <td>0.28</td>\n",
       "      <td>9.90</td>\n",
       "      <td>27.0</td>\n",
       "    </tr>\n",
       "    <tr>\n",
       "      <th>11</th>\n",
       "      <td>1</td>\n",
       "      <td>0</td>\n",
       "      <td>0</td>\n",
       "      <td>0</td>\n",
       "      <td>0</td>\n",
       "      <td>0</td>\n",
       "      <td>0</td>\n",
       "      <td>0</td>\n",
       "      <td>0</td>\n",
       "      <td>0</td>\n",
       "      <td>0</td>\n",
       "      <td>0</td>\n",
       "      <td>0</td>\n",
       "      <td>0</td>\n",
       "      <td>0</td>\n",
       "      <td>0</td>\n",
       "      <td>0</td>\n",
       "      <td>0</td>\n",
       "      <td>1</td>\n",
       "      <td>0</td>\n",
       "      <td>0</td>\n",
       "      <td>0</td>\n",
       "      <td>0</td>\n",
       "      <td>0</td>\n",
       "      <td>0</td>\n",
       "      <td>1</td>\n",
       "      <td>0</td>\n",
       "      <td>0</td>\n",
       "      <td>0</td>\n",
       "      <td>0</td>\n",
       "      <td>0</td>\n",
       "      <td>0</td>\n",
       "      <td>0</td>\n",
       "      <td>0</td>\n",
       "      <td>0</td>\n",
       "      <td>0</td>\n",
       "      <td>0</td>\n",
       "      <td>0</td>\n",
       "      <td>1</td>\n",
       "      <td>6</td>\n",
       "      <td>11</td>\n",
       "      <td>57.41</td>\n",
       "      <td>57.41</td>\n",
       "      <td>0.24</td>\n",
       "      <td>7.42</td>\n",
       "      <td>0.25</td>\n",
       "      <td>9.70</td>\n",
       "      <td>19.0</td>\n",
       "    </tr>\n",
       "  </tbody>\n",
       "</table>\n",
       "</div>"
      ],
      "text/plain": [
       "    month_1  month_2  month_3  month_4  month_5  month_6  month_7  month_8  month_9  month_10  month_11  month_12  weekday_0  weekday_1  weekday_2  weekday_3  weekday_4  weekday_5  weekday_6  hour_5  hour_6  hour_7  hour_8  hour_9  hour_10  hour_11  hour_12  hour_13  hour_14  hour_15  hour_16  hour_17  hour_18  hour_19  hour_20  hour_21  hour_22  hour_23  Checkout_Month  Checkout_WeekDay  Checkout_Hour  Temperature  Apparent_Temperature  Cloud_Cover  Wind_Speed  Humidity  Visibility  Number_Of_Checkouts\n",
       "7         1        0        0        0        0        0        0        0        0         0         0         0          0          0          0          0          0          0          1       0       0       1       0       0        0        0        0        0        0        0        0        0        0        0        0        0        0        0               1                 6              7        38.74                 33.54         0.17        7.14      0.44       10.00                  2.0\n",
       "8         1        0        0        0        0        0        0        0        0         0         0         0          0          0          0          0          0          0          1       0       0       0       1       0        0        0        0        0        0        0        0        0        0        0        0        0        0        0               1                 6              8        42.93                 38.96         0.26        6.48      0.41       10.00                  4.0\n",
       "9         1        0        0        0        0        0        0        0        0         0         0         0          0          0          0          0          0          0          1       0       0       0       0       1        0        0        0        0        0        0        0        0        0        0        0        0        0        0               1                 6              9        49.97                 46.69         0.11        8.10      0.33        9.79                 10.0\n",
       "10        1        0        0        0        0        0        0        0        0         0         0         0          0          0          0          0          0          0          1       0       0       0       0       0        1        0        0        0        0        0        0        0        0        0        0        0        0        0               1                 6             10        54.03                 54.03         0.20        6.05      0.28        9.90                 27.0\n",
       "11        1        0        0        0        0        0        0        0        0         0         0         0          0          0          0          0          0          0          1       0       0       0       0       0        0        1        0        0        0        0        0        0        0        0        0        0        0        0               1                 6             11        57.41                 57.41         0.24        7.42      0.25        9.70                 19.0"
      ]
     },
     "execution_count": 48,
     "metadata": {},
     "output_type": "execute_result"
    }
   ],
   "source": [
    "data.head()"
   ]
  },
  {
   "cell_type": "code",
   "execution_count": 49,
   "metadata": {
    "collapsed": true
   },
   "outputs": [],
   "source": [
    "array = data.values"
   ]
  },
  {
   "cell_type": "code",
   "execution_count": 50,
   "metadata": {},
   "outputs": [
    {
     "data": {
      "text/plain": [
       "array([ 1.  ,  0.  ,  0.  ,  0.  ,  0.  ,  0.  ,  0.  ,  0.  ,  0.  ,\n",
       "        0.  ,  0.  ,  0.  ,  0.  ,  0.  ,  0.  ,  0.  ,  0.  ,  0.  ,\n",
       "        1.  ,  0.  ,  0.  ,  1.  ,  0.  ,  0.  ,  0.  ,  0.  ,  0.  ,\n",
       "        0.  ,  0.  ,  0.  ,  0.  ,  0.  ,  0.  ,  0.  ,  0.  ,  0.  ,\n",
       "        0.  ,  0.  ,  1.  ,  6.  ,  7.  , 38.74, 33.54,  0.17,  7.14,\n",
       "        0.44, 10.  ])"
      ]
     },
     "execution_count": 50,
     "metadata": {},
     "output_type": "execute_result"
    }
   ],
   "source": [
    "X = array[:,0:47]\n",
    "X[0]"
   ]
  },
  {
   "cell_type": "code",
   "execution_count": 51,
   "metadata": {},
   "outputs": [
    {
     "data": {
      "text/plain": [
       "2.0"
      ]
     },
     "execution_count": 51,
     "metadata": {},
     "output_type": "execute_result"
    }
   ],
   "source": [
    "y = array[:,47]\n",
    "y[0]"
   ]
  },
  {
   "cell_type": "code",
   "execution_count": null,
   "metadata": {
    "collapsed": true
   },
   "outputs": [],
   "source": []
  },
  {
   "cell_type": "markdown",
   "metadata": {},
   "source": [
    "## Feature Correlations"
   ]
  },
  {
   "cell_type": "code",
   "execution_count": 52,
   "metadata": {},
   "outputs": [
    {
     "data": {
      "image/png": "[encoded data removed]",
      "text/plain": [
       "<matplotlib.figure.Figure at 0x2a6be5a25c0>"
      ]
     },
     "metadata": {},
     "output_type": "display_data"
    }
   ],
   "source": [
    "plt.figure(figsize=(16,10))\n",
    "ax = sns.heatmap(data.corr())\n",
    "plt.title(\"Feature Correlations\", fontsize=18)\n",
    "plt.xticks(fontsize=14)\n",
    "plt.yticks(fontsize=14)\n",
    "plt.show()"
   ]
  },
  {
   "cell_type": "code",
   "execution_count": 53,
   "metadata": {
    "collapsed": true
   },
   "outputs": [],
   "source": [
    "features = ['month_1', 'month_2', 'month_3', 'month_4', 'month_5', 'month_6', 'month_7', 'month_8',\n",
    "             'month_9', 'month_10', 'month_11', 'month_12',\n",
    "             'weekday_0', 'weekday_1', 'weekday_2', 'weekday_3', 'weekday_4', 'weekday_5', 'weekday_6',\n",
    "             'hour_5', 'hour_6', 'hour_7', 'hour_8', 'hour_9', 'hour_10', 'hour_11', 'hour_12', 'hour_13',\n",
    "             'hour_14', 'hour_15', 'hour_16', 'hour_17',\n",
    "             'hour_18', 'hour_19', 'hour_20', 'hour_21', 'hour_22', 'hour_23',\n",
    "             'Temperature', 'Apparent_Temperature', 'Cloud_Cover', 'Wind_Speed', 'Humidity', 'Visibility']\n",
    "X = data[features]\n",
    "y = data['Number_Of_Checkouts']\n",
    "X_train, X_test, y_train, y_test = train_test_split(X, y, test_size=0.3, random_state=0)"
   ]
  },
  {
   "cell_type": "markdown",
   "metadata": {},
   "source": [
    "## 2. Modeling - All Features"
   ]
  },
  {
   "cell_type": "markdown",
   "metadata": {},
   "source": [
    "### Plot Feature Importance"
   ]
  },
  {
   "cell_type": "code",
   "execution_count": 54,
   "metadata": {
    "collapsed": true
   },
   "outputs": [],
   "source": [
    "def plot_feature_importances(model, plot_title):\n",
    "    n_features = X.shape[1]\n",
    "    plt.figure(figsize=(10,14))\n",
    "    feature_importance = model.feature_importances_\n",
    "    features_list = features\n",
    "    feature_importance, features_list = zip(*sorted(zip(feature_importance, features_list)))\n",
    "    plt.barh(range(len(features_list)), feature_importance, align='center')\n",
    "    plt.xticks(fontsize=14)\n",
    "    plt.yticks(np.arange(len(features_list)), features_list, fontsize=14)\n",
    "    plt.xlabel('Relative Importance', fontsize=16)\n",
    "    plt.ylabel('Feature', fontsize=16)\n",
    "    plt.title(plot_title + ' Features Importance', fontsize=20)\n",
    "    plt.show()"
   ]
  },
  {
   "cell_type": "markdown",
   "metadata": {},
   "source": [
    "### Get Regression Metrics"
   ]
  },
  {
   "cell_type": "code",
   "execution_count": 55,
   "metadata": {
    "collapsed": true
   },
   "outputs": [],
   "source": [
    "def get_regression_metrics(model, actual, predicted):\n",
    "    regression_metrics = {'R Squared' : metrics.r2_score(actual, predicted)**0.5,\n",
    "                          'RMSE' : metrics.mean_squared_error(actual, predicted)}\n",
    "    dML_metrics = pd.DataFrame.from_dict(regression_metrics, orient='index')\n",
    "    dML_metrics.columns = [model]\n",
    "    return dML_metrics"
   ]
  },
  {
   "cell_type": "markdown",
   "metadata": {},
   "source": [
    "### Linear Regression"
   ]
  },
  {
   "cell_type": "code",
   "execution_count": 56,
   "metadata": {},
   "outputs": [
    {
     "name": "stdout",
     "output_type": "stream",
     "text": [
      "lr.intercept_: 1294945477.0888085\n",
      "lr.coef_: [ 5.41653445e+05  5.41661397e+05  5.41666766e+05  5.41669796e+05\n",
      "  5.41675661e+05  5.41674879e+05  5.41671929e+05  5.41678156e+05\n",
      "  5.41675783e+05  5.41672500e+05  5.41666326e+05  5.41661776e+05\n",
      "  9.57780555e+10  9.57780555e+10  9.57780555e+10  9.57780555e+10\n",
      "  9.57780555e+10  9.57780555e+10  9.57780555e+10 -9.70735427e+10\n",
      " -9.70735427e+10 -9.70735426e+10 -9.70735426e+10 -9.70735427e+10\n",
      " -9.70735427e+10 -9.70735427e+10 -9.70735426e+10 -9.70735426e+10\n",
      " -9.70735427e+10 -9.70735426e+10 -9.70735426e+10 -9.70735426e+10\n",
      " -9.70735426e+10 -9.70735427e+10 -9.70735427e+10 -9.70735427e+10\n",
      " -9.70735427e+10 -9.70735427e+10  1.07281452e+00 -2.85134040e-01\n",
      " -7.27059488e+00 -5.46293661e-01 -8.91272246e+00  9.94453378e-01]\n",
      "\n",
      "Training Set Score: 0.683\n",
      "Testing Set Score: 0.655\n"
     ]
    },
    {
     "data": {
      "text/html": [
       "<div>\n",
       "<style scoped>\n",
       "    .dataframe tbody tr th:only-of-type {\n",
       "        vertical-align: middle;\n",
       "    }\n",
       "\n",
       "    .dataframe tbody tr th {\n",
       "        vertical-align: top;\n",
       "    }\n",
       "\n",
       "    .dataframe thead th {\n",
       "        text-align: right;\n",
       "    }\n",
       "</style>\n",
       "<table border=\"1\" class=\"dataframe\">\n",
       "  <thead>\n",
       "    <tr style=\"text-align: right;\">\n",
       "      <th></th>\n",
       "      <th>Linear Regression</th>\n",
       "    </tr>\n",
       "  </thead>\n",
       "  <tbody>\n",
       "    <tr>\n",
       "      <th>R Squared</th>\n",
       "      <td>0.809501</td>\n",
       "    </tr>\n",
       "    <tr>\n",
       "      <th>RMSE</th>\n",
       "      <td>486.352625</td>\n",
       "    </tr>\n",
       "  </tbody>\n",
       "</table>\n",
       "</div>"
      ],
      "text/plain": [
       "           Linear Regression\n",
       "R Squared           0.809501\n",
       "RMSE              486.352625"
      ]
     },
     "execution_count": 56,
     "metadata": {},
     "output_type": "execute_result"
    }
   ],
   "source": [
    "# Linear Regression\n",
    "lr = linear_model.LinearRegression()\n",
    "lr.fit(X_train, y_train)\n",
    "y_predict = lr.predict(X_test)\n",
    "print(\"lr.intercept_: {}\".format(lr.intercept_))\n",
    "print(\"lr.coef_: {}\".format(lr.coef_))\n",
    "print(\"\\nTraining Set Score: {:.3f}\".format(lr.score(X_train, y_train)))\n",
    "print(\"Testing Set Score: {:.3f}\".format(lr.score(X_test, y_test)))\n",
    "lr_metrics = get_regression_metrics('Linear Regression', y_test, y_predict)\n",
    "lr_metrics"
   ]
  },
  {
   "cell_type": "markdown",
   "metadata": {},
   "source": [
    "### Lasso Regression"
   ]
  },
  {
   "cell_type": "code",
   "execution_count": 57,
   "metadata": {},
   "outputs": [
    {
     "name": "stdout",
     "output_type": "stream",
     "text": [
      "lso.intercept_: 8.308090146520854\n",
      "lso.coef_: [-15.87415504  -8.20743036  -3.2184427   -0.35789519   4.78081015\n",
      "   3.53016791   0.24917262   6.65137055   4.584796     2.06236356\n",
      "  -3.65716885  -7.60210363  -0.73147233   1.03613256  -0.36221255\n",
      "   1.04073736   2.77457973   0.          -7.90232686 -39.04137186\n",
      " -24.7920564    5.33433564  21.03777102  -8.70181491 -12.81468998\n",
      "   0.           8.46368392   5.44228386   0.           6.93692176\n",
      "  24.93446863  29.75180385   3.19091077 -17.070747   -26.04720625\n",
      " -28.56539294 -34.25989589 -37.77344062   1.15068515  -0.30729163\n",
      "  -6.69004462  -0.55508109  -7.06691221   1.0203238 ]\n",
      "Training Set Score: 0.683\n",
      "Testing Set Score: 0.655\n"
     ]
    },
    {
     "name": "stderr",
     "output_type": "stream",
     "text": [
      "C:\\Users\\jbhasin\\Anaconda3\\lib\\site-packages\\sklearn\\linear_model\\coordinate_descent.py:491: ConvergenceWarning: Objective did not converge. You might want to increase the number of iterations. Fitting data with very small alpha may cause precision problems.\n",
      "  ConvergenceWarning)\n"
     ]
    },
    {
     "data": {
      "text/html": [
       "<div>\n",
       "<style scoped>\n",
       "    .dataframe tbody tr th:only-of-type {\n",
       "        vertical-align: middle;\n",
       "    }\n",
       "\n",
       "    .dataframe tbody tr th {\n",
       "        vertical-align: top;\n",
       "    }\n",
       "\n",
       "    .dataframe thead th {\n",
       "        text-align: right;\n",
       "    }\n",
       "</style>\n",
       "<table border=\"1\" class=\"dataframe\">\n",
       "  <thead>\n",
       "    <tr style=\"text-align: right;\">\n",
       "      <th></th>\n",
       "      <th>Lasso Regression</th>\n",
       "    </tr>\n",
       "  </thead>\n",
       "  <tbody>\n",
       "    <tr>\n",
       "      <th>R Squared</th>\n",
       "      <td>0.809247</td>\n",
       "    </tr>\n",
       "    <tr>\n",
       "      <th>RMSE</th>\n",
       "      <td>486.932107</td>\n",
       "    </tr>\n",
       "  </tbody>\n",
       "</table>\n",
       "</div>"
      ],
      "text/plain": [
       "           Lasso Regression\n",
       "R Squared          0.809247\n",
       "RMSE             486.932107"
      ]
     },
     "execution_count": 57,
     "metadata": {},
     "output_type": "execute_result"
    }
   ],
   "source": [
    "# Lasso Regression\n",
    "lso = linear_model.Lasso(alpha=0.01)\n",
    "lso.fit(X_train, y_train)\n",
    "y_predict = lso.predict(X_test)\n",
    "print(\"lso.intercept_: {}\".format(lso.intercept_))\n",
    "print(\"lso.coef_: {}\".format(lso.coef_))\n",
    "print(\"Training Set Score: {:.3f}\".format(lso.score(X_train, y_train)))\n",
    "print(\"Testing Set Score: {:.3f}\".format(lso.score(X_test, y_test)))\n",
    "lso_metrics = get_regression_metrics('Lasso Regression', y_test, y_predict)\n",
    "lso_metrics"
   ]
  },
  {
   "cell_type": "markdown",
   "metadata": {},
   "source": [
    "### Ridge Regression"
   ]
  },
  {
   "cell_type": "code",
   "execution_count": 58,
   "metadata": {},
   "outputs": [
    {
     "name": "stdout",
     "output_type": "stream",
     "text": [
      "rge.intercept_: 8.308090146520854\n",
      "rge.coef_: [-15.87415504  -8.20743036  -3.2184427   -0.35789519   4.78081015\n",
      "   3.53016791   0.24917262   6.65137055   4.584796     2.06236356\n",
      "  -3.65716885  -7.60210363  -0.73147233   1.03613256  -0.36221255\n",
      "   1.04073736   2.77457973   0.          -7.90232686 -39.04137186\n",
      " -24.7920564    5.33433564  21.03777102  -8.70181491 -12.81468998\n",
      "   0.           8.46368392   5.44228386   0.           6.93692176\n",
      "  24.93446863  29.75180385   3.19091077 -17.070747   -26.04720625\n",
      " -28.56539294 -34.25989589 -37.77344062   1.15068515  -0.30729163\n",
      "  -6.69004462  -0.55508109  -7.06691221   1.0203238 ]\n",
      "Training Set Score: 0.683\n",
      "Testing Set Score: 0.655\n"
     ]
    },
    {
     "name": "stderr",
     "output_type": "stream",
     "text": [
      "C:\\Users\\jbhasin\\Anaconda3\\lib\\site-packages\\sklearn\\linear_model\\coordinate_descent.py:491: ConvergenceWarning: Objective did not converge. You might want to increase the number of iterations. Fitting data with very small alpha may cause precision problems.\n",
      "  ConvergenceWarning)\n"
     ]
    },
    {
     "data": {
      "text/html": [
       "<div>\n",
       "<style scoped>\n",
       "    .dataframe tbody tr th:only-of-type {\n",
       "        vertical-align: middle;\n",
       "    }\n",
       "\n",
       "    .dataframe tbody tr th {\n",
       "        vertical-align: top;\n",
       "    }\n",
       "\n",
       "    .dataframe thead th {\n",
       "        text-align: right;\n",
       "    }\n",
       "</style>\n",
       "<table border=\"1\" class=\"dataframe\">\n",
       "  <thead>\n",
       "    <tr style=\"text-align: right;\">\n",
       "      <th></th>\n",
       "      <th>Ridge Regression</th>\n",
       "    </tr>\n",
       "  </thead>\n",
       "  <tbody>\n",
       "    <tr>\n",
       "      <th>R Squared</th>\n",
       "      <td>0.809247</td>\n",
       "    </tr>\n",
       "    <tr>\n",
       "      <th>RMSE</th>\n",
       "      <td>486.932107</td>\n",
       "    </tr>\n",
       "  </tbody>\n",
       "</table>\n",
       "</div>"
      ],
      "text/plain": [
       "           Ridge Regression\n",
       "R Squared          0.809247\n",
       "RMSE             486.932107"
      ]
     },
     "execution_count": 58,
     "metadata": {},
     "output_type": "execute_result"
    }
   ],
   "source": [
    "# Ridge Regression\n",
    "rge = linear_model.Lasso(alpha=0.01)\n",
    "rge.fit(X_train, y_train)\n",
    "y_predict = rge.predict(X_test)\n",
    "print(\"rge.intercept_: {}\".format(rge.intercept_))\n",
    "print(\"rge.coef_: {}\".format(rge.coef_))\n",
    "print(\"Training Set Score: {:.3f}\".format(rge.score(X_train, y_train)))\n",
    "print(\"Testing Set Score: {:.3f}\".format(rge.score(X_test, y_test)))\n",
    "rge_metrics = get_regression_metrics('Ridge Regression', y_test, y_predict)\n",
    "rge_metrics"
   ]
  },
  {
   "cell_type": "markdown",
   "metadata": {},
   "source": [
    "### Bayesian Ridge Regression"
   ]
  },
  {
   "cell_type": "code",
   "execution_count": 59,
   "metadata": {},
   "outputs": [
    {
     "name": "stdout",
     "output_type": "stream",
     "text": [
      "brr.intercept_: 2.440\n",
      "brr.coef_: [-15.07213339  -7.29913492  -2.12455053   0.83334048   6.48574579\n",
      "   5.48569885   2.41987083   8.69349826   6.45420929   3.50135092\n",
      "  -2.5503535   -6.82754207  -0.23569701   1.66195921   0.16767544\n",
      "   1.72239589   3.45527828   0.58183481  -7.35344662 -32.53317217\n",
      " -18.40847843  11.83722594  27.45825253  -2.36777317  -6.42294909\n",
      "   6.68995636  15.14052129  12.13518026   6.57986633  13.65022185\n",
      "  31.44758969  36.22627844   9.85796754 -10.66059375 -19.56359458\n",
      " -22.07990517 -27.76113677 -31.22545708   1.10598766  -0.29501041\n",
      "  -6.94697316  -0.54912267  -8.40324732   0.98870362]\n",
      "Training Set Score: 0.683\n",
      "Testing Set Score: 0.655\n"
     ]
    },
    {
     "data": {
      "text/html": [
       "<div>\n",
       "<style scoped>\n",
       "    .dataframe tbody tr th:only-of-type {\n",
       "        vertical-align: middle;\n",
       "    }\n",
       "\n",
       "    .dataframe tbody tr th {\n",
       "        vertical-align: top;\n",
       "    }\n",
       "\n",
       "    .dataframe thead th {\n",
       "        text-align: right;\n",
       "    }\n",
       "</style>\n",
       "<table border=\"1\" class=\"dataframe\">\n",
       "  <thead>\n",
       "    <tr style=\"text-align: right;\">\n",
       "      <th></th>\n",
       "      <th>Bayesion Ridge Regression</th>\n",
       "    </tr>\n",
       "  </thead>\n",
       "  <tbody>\n",
       "    <tr>\n",
       "      <th>R Squared</th>\n",
       "      <td>0.809243</td>\n",
       "    </tr>\n",
       "    <tr>\n",
       "      <th>RMSE</th>\n",
       "      <td>486.941279</td>\n",
       "    </tr>\n",
       "  </tbody>\n",
       "</table>\n",
       "</div>"
      ],
      "text/plain": [
       "           Bayesion Ridge Regression\n",
       "R Squared                   0.809243\n",
       "RMSE                      486.941279"
      ]
     },
     "execution_count": 59,
     "metadata": {},
     "output_type": "execute_result"
    }
   ],
   "source": [
    "# Bayesian Ridge Regressor\n",
    "brr = linear_model.BayesianRidge()\n",
    "brr.fit(X_train, y_train)\n",
    "y_predict = brr.predict(X_test)\n",
    "print(\"brr.intercept_: {:.3f}\".format(brr.intercept_))\n",
    "print(\"brr.coef_: {}\".format(brr.coef_))\n",
    "print(\"Training Set Score: {:.3f}\".format(brr.score(X_train, y_train)))\n",
    "print(\"Testing Set Score: {:.3f}\".format(brr.score(X_test, y_test)))\n",
    "brr_metrics = get_regression_metrics('Bayesion Ridge Regression', y_test, y_predict)\n",
    "brr_metrics"
   ]
  },
  {
   "cell_type": "markdown",
   "metadata": {},
   "source": [
    "### Decision Tree Regression"
   ]
  },
  {
   "cell_type": "code",
   "execution_count": 60,
   "metadata": {},
   "outputs": [
    {
     "name": "stdout",
     "output_type": "stream",
     "text": [
      "Training Set Score: 1.000\n",
      "Testing Set Score: 0.636\n"
     ]
    },
    {
     "data": {
      "text/html": [
       "<div>\n",
       "<style scoped>\n",
       "    .dataframe tbody tr th:only-of-type {\n",
       "        vertical-align: middle;\n",
       "    }\n",
       "\n",
       "    .dataframe tbody tr th {\n",
       "        vertical-align: top;\n",
       "    }\n",
       "\n",
       "    .dataframe thead th {\n",
       "        text-align: right;\n",
       "    }\n",
       "</style>\n",
       "<table border=\"1\" class=\"dataframe\">\n",
       "  <thead>\n",
       "    <tr style=\"text-align: right;\">\n",
       "      <th></th>\n",
       "      <th>Decision Tree Regression</th>\n",
       "    </tr>\n",
       "  </thead>\n",
       "  <tbody>\n",
       "    <tr>\n",
       "      <th>R Squared</th>\n",
       "      <td>0.797272</td>\n",
       "    </tr>\n",
       "    <tr>\n",
       "      <th>RMSE</th>\n",
       "      <td>514.075159</td>\n",
       "    </tr>\n",
       "  </tbody>\n",
       "</table>\n",
       "</div>"
      ],
      "text/plain": [
       "           Decision Tree Regression\n",
       "R Squared                  0.797272\n",
       "RMSE                     514.075159"
      ]
     },
     "execution_count": 60,
     "metadata": {},
     "output_type": "execute_result"
    }
   ],
   "source": [
    "# Decision Tree Regressor\n",
    "dtr = DecisionTreeRegressor(random_state=0)\n",
    "dtr.fit(X_train, y_train)\n",
    "y_predict = dtr.predict(X_test)\n",
    "print(\"Training Set Score: {:.3f}\".format(dtr.score(X_train, y_train)))\n",
    "print(\"Testing Set Score: {:.3f}\".format(dtr.score(X_test, y_test)))\n",
    "dtr_metrics = get_regression_metrics('Decision Tree Regression', y_test, y_predict)\n",
    "dtr_metrics"
   ]
  },
  {
   "cell_type": "markdown",
   "metadata": {},
   "source": [
    "### Random Forest Regression"
   ]
  },
  {
   "cell_type": "code",
   "execution_count": 61,
   "metadata": {},
   "outputs": [
    {
     "data": {
      "image/png": "[encoded data removed]",
      "text/plain": [
       "<matplotlib.figure.Figure at 0x2a6be39b630>"
      ]
     },
     "metadata": {},
     "output_type": "display_data"
    }
   ],
   "source": [
    "plot_feature_importances(dtr, 'Decision Tree Regression')"
   ]
  },
  {
   "cell_type": "code",
   "execution_count": 62,
   "metadata": {},
   "outputs": [
    {
     "name": "stdout",
     "output_type": "stream",
     "text": [
      "Training Set Score: 0.965\n",
      "Testing Set Score: 0.793\n"
     ]
    },
    {
     "data": {
      "text/html": [
       "<div>\n",
       "<style scoped>\n",
       "    .dataframe tbody tr th:only-of-type {\n",
       "        vertical-align: middle;\n",
       "    }\n",
       "\n",
       "    .dataframe tbody tr th {\n",
       "        vertical-align: top;\n",
       "    }\n",
       "\n",
       "    .dataframe thead th {\n",
       "        text-align: right;\n",
       "    }\n",
       "</style>\n",
       "<table border=\"1\" class=\"dataframe\">\n",
       "  <thead>\n",
       "    <tr style=\"text-align: right;\">\n",
       "      <th></th>\n",
       "      <th>Random Forest Regression</th>\n",
       "    </tr>\n",
       "  </thead>\n",
       "  <tbody>\n",
       "    <tr>\n",
       "      <th>R Squared</th>\n",
       "      <td>0.890547</td>\n",
       "    </tr>\n",
       "    <tr>\n",
       "      <th>RMSE</th>\n",
       "      <td>291.954553</td>\n",
       "    </tr>\n",
       "  </tbody>\n",
       "</table>\n",
       "</div>"
      ],
      "text/plain": [
       "           Random Forest Regression\n",
       "R Squared                  0.890547\n",
       "RMSE                     291.954553"
      ]
     },
     "execution_count": 62,
     "metadata": {},
     "output_type": "execute_result"
    }
   ],
   "source": [
    "# Random Forest Regressor\n",
    "rfr = RandomForestRegressor(random_state=0)\n",
    "rfr.fit(X_train, y_train)\n",
    "y_predict = rfr.predict(X_test)\n",
    "print(\"Training Set Score: {:.3f}\".format(rfr.score(X_train, y_train)))\n",
    "print(\"Testing Set Score: {:.3f}\".format(rfr.score(X_test, y_test)))\n",
    "rfr_metrics = get_regression_metrics('Random Forest Regression', y_test, y_predict)\n",
    "rfr_metrics"
   ]
  },
  {
   "cell_type": "code",
   "execution_count": 63,
   "metadata": {},
   "outputs": [
    {
     "data": {
      "image/png": "[encoded data removed]",
      "text/plain": [
       "<matplotlib.figure.Figure at 0x2a6be538c88>"
      ]
     },
     "metadata": {},
     "output_type": "display_data"
    }
   ],
   "source": [
    "plot_feature_importances(rfr, 'Random Forest Regression')"
   ]
  },
  {
   "cell_type": "markdown",
   "metadata": {},
   "source": [
    "#### Extra Trees Regression"
   ]
  },
  {
   "cell_type": "code",
   "execution_count": 64,
   "metadata": {},
   "outputs": [
    {
     "name": "stdout",
     "output_type": "stream",
     "text": [
      "Training Set Score: 1.000\n",
      "Testing Set Score: 0.827\n"
     ]
    },
    {
     "data": {
      "text/html": [
       "<div>\n",
       "<style scoped>\n",
       "    .dataframe tbody tr th:only-of-type {\n",
       "        vertical-align: middle;\n",
       "    }\n",
       "\n",
       "    .dataframe tbody tr th {\n",
       "        vertical-align: top;\n",
       "    }\n",
       "\n",
       "    .dataframe thead th {\n",
       "        text-align: right;\n",
       "    }\n",
       "</style>\n",
       "<table border=\"1\" class=\"dataframe\">\n",
       "  <thead>\n",
       "    <tr style=\"text-align: right;\">\n",
       "      <th></th>\n",
       "      <th>Extra Trees Regression</th>\n",
       "    </tr>\n",
       "  </thead>\n",
       "  <tbody>\n",
       "    <tr>\n",
       "      <th>R Squared</th>\n",
       "      <td>0.909531</td>\n",
       "    </tr>\n",
       "    <tr>\n",
       "      <th>RMSE</th>\n",
       "      <td>243.740303</td>\n",
       "    </tr>\n",
       "  </tbody>\n",
       "</table>\n",
       "</div>"
      ],
      "text/plain": [
       "           Extra Trees Regression\n",
       "R Squared                0.909531\n",
       "RMSE                   243.740303"
      ]
     },
     "execution_count": 64,
     "metadata": {},
     "output_type": "execute_result"
    }
   ],
   "source": [
    "# Extra Trees Regressor\n",
    "etr = ExtraTreesRegressor(random_state=0)\n",
    "etr.fit(X_train, y_train)\n",
    "y_predict = etr.predict(X_test)\n",
    "print(\"Training Set Score: {:.3f}\".format(etr.score(X_train, y_train)))\n",
    "print(\"Testing Set Score: {:.3f}\".format(etr.score(X_test, y_test)))\n",
    "etr_metrics = get_regression_metrics('Extra Trees Regression', y_test, y_predict)\n",
    "etr_metrics"
   ]
  },
  {
   "cell_type": "code",
   "execution_count": 65,
   "metadata": {},
   "outputs": [
    {
     "data": {
      "image/png": "[encoded data removed]",
      "text/plain": [
       "<matplotlib.figure.Figure at 0x2a6be7f55f8>"
      ]
     },
     "metadata": {},
     "output_type": "display_data"
    }
   ],
   "source": [
    "plot_feature_importances(etr, 'Extra Trees Regression')"
   ]
  },
  {
   "cell_type": "markdown",
   "metadata": {},
   "source": [
    "#### Nearest Neighbors Regression"
   ]
  },
  {
   "cell_type": "code",
   "execution_count": 66,
   "metadata": {},
   "outputs": [
    {
     "name": "stdout",
     "output_type": "stream",
     "text": [
      "Training Set Score: 0.575\n",
      "Testing Set Score: 0.453\n"
     ]
    },
    {
     "data": {
      "text/html": [
       "<div>\n",
       "<style scoped>\n",
       "    .dataframe tbody tr th:only-of-type {\n",
       "        vertical-align: middle;\n",
       "    }\n",
       "\n",
       "    .dataframe tbody tr th {\n",
       "        vertical-align: top;\n",
       "    }\n",
       "\n",
       "    .dataframe thead th {\n",
       "        text-align: right;\n",
       "    }\n",
       "</style>\n",
       "<table border=\"1\" class=\"dataframe\">\n",
       "  <thead>\n",
       "    <tr style=\"text-align: right;\">\n",
       "      <th></th>\n",
       "      <th>Nearest Neighbors Regression</th>\n",
       "    </tr>\n",
       "  </thead>\n",
       "  <tbody>\n",
       "    <tr>\n",
       "      <th>R Squared</th>\n",
       "      <td>0.672958</td>\n",
       "    </tr>\n",
       "    <tr>\n",
       "      <th>RMSE</th>\n",
       "      <td>771.947906</td>\n",
       "    </tr>\n",
       "  </tbody>\n",
       "</table>\n",
       "</div>"
      ],
      "text/plain": [
       "           Nearest Neighbors Regression\n",
       "R Squared                      0.672958\n",
       "RMSE                         771.947906"
      ]
     },
     "execution_count": 66,
     "metadata": {},
     "output_type": "execute_result"
    }
   ],
   "source": [
    "# Nearest Neighbors Regressor\n",
    "knr = KNeighborsRegressor(n_neighbors=10)\n",
    "knr.fit(X_train, y_train)\n",
    "y_predict = knr.predict(X_test)\n",
    "print(\"Training Set Score: {:.3f}\".format(knr.score(X_train, y_train)))\n",
    "print(\"Testing Set Score: {:.3f}\".format(knr.score(X_test, y_test)))\n",
    "knr_metrics = get_regression_metrics('Nearest Neighbors Regression', y_test, y_predict)\n",
    "knr_metrics"
   ]
  },
  {
   "cell_type": "markdown",
   "metadata": {},
   "source": [
    "## Regression Summary - Categorical Feature Set"
   ]
  },
  {
   "cell_type": "code",
   "execution_count": 67,
   "metadata": {
    "scrolled": true
   },
   "outputs": [
    {
     "name": "stdout",
     "output_type": "stream",
     "text": [
      "Regression Summary - Categorical Feature Set\n"
     ]
    },
    {
     "data": {
      "text/html": [
       "<div>\n",
       "<style scoped>\n",
       "    .dataframe tbody tr th:only-of-type {\n",
       "        vertical-align: middle;\n",
       "    }\n",
       "\n",
       "    .dataframe tbody tr th {\n",
       "        vertical-align: top;\n",
       "    }\n",
       "\n",
       "    .dataframe thead th {\n",
       "        text-align: right;\n",
       "    }\n",
       "</style>\n",
       "<table border=\"1\" class=\"dataframe\">\n",
       "  <thead>\n",
       "    <tr style=\"text-align: right;\">\n",
       "      <th></th>\n",
       "      <th>Linear Regression</th>\n",
       "      <th>Lasso Regression</th>\n",
       "      <th>Ridge Regression</th>\n",
       "      <th>Bayesion Ridge Regression</th>\n",
       "      <th>Decision Tree Regression</th>\n",
       "      <th>Random Forest Regression</th>\n",
       "      <th>Extra Trees Regression</th>\n",
       "      <th>Nearest Neighbors Regression</th>\n",
       "    </tr>\n",
       "  </thead>\n",
       "  <tbody>\n",
       "    <tr>\n",
       "      <th>R Squared</th>\n",
       "      <td>0.809501</td>\n",
       "      <td>0.809247</td>\n",
       "      <td>0.809247</td>\n",
       "      <td>0.809243</td>\n",
       "      <td>0.797272</td>\n",
       "      <td>0.890547</td>\n",
       "      <td>0.909531</td>\n",
       "      <td>0.672958</td>\n",
       "    </tr>\n",
       "    <tr>\n",
       "      <th>RMSE</th>\n",
       "      <td>486.352625</td>\n",
       "      <td>486.932107</td>\n",
       "      <td>486.932107</td>\n",
       "      <td>486.941279</td>\n",
       "      <td>514.075159</td>\n",
       "      <td>291.954553</td>\n",
       "      <td>243.740303</td>\n",
       "      <td>771.947906</td>\n",
       "    </tr>\n",
       "  </tbody>\n",
       "</table>\n",
       "</div>"
      ],
      "text/plain": [
       "           Linear Regression  Lasso Regression  Ridge Regression  Bayesion Ridge Regression  Decision Tree Regression  Random Forest Regression  Extra Trees Regression  Nearest Neighbors Regression\n",
       "R Squared           0.809501          0.809247          0.809247                   0.809243                  0.797272                  0.890547                0.909531                      0.672958\n",
       "RMSE              486.352625        486.932107        486.932107                 486.941279                514.075159                291.954553              243.740303                    771.947906"
      ]
     },
     "execution_count": 67,
     "metadata": {},
     "output_type": "execute_result"
    }
   ],
   "source": [
    "# Regression Summary\n",
    "print(\"Regression Summary - Categorical Feature Set\")\n",
    "regression_metrics = pd.concat([lr_metrics, lso_metrics, rge_metrics, brr_metrics,\n",
    "                                dtr_metrics, rfr_metrics, etr_metrics, knr_metrics] , axis=1)\n",
    "regression_metrics.sort_index()"
   ]
  },
  {
   "cell_type": "markdown",
   "metadata": {},
   "source": [
    "## 3. Modeling - Selected Features"
   ]
  },
  {
   "cell_type": "code",
   "execution_count": 68,
   "metadata": {
    "collapsed": true
   },
   "outputs": [],
   "source": [
    "data = dML.copy(deep=True)"
   ]
  },
  {
   "cell_type": "code",
   "execution_count": 69,
   "metadata": {
    "collapsed": true
   },
   "outputs": [],
   "source": [
    "data.rename(columns = {'cloudCover': 'Cloud_Cover', 'temperature': 'Temperature', 'apparentTemperature' : 'Apparent_Temperature',\n",
    "                     'windSpeed' : 'Wind_Speed', 'humidity' : 'Humidity', 'visibility' : 'Visibility'}, inplace = True)"
   ]
  },
  {
   "cell_type": "code",
   "execution_count": 70,
   "metadata": {},
   "outputs": [
    {
     "data": {
      "image/png": "[encoded data removed]",
      "text/plain": [
       "<matplotlib.figure.Figure at 0x2a6c03f3128>"
      ]
     },
     "metadata": {},
     "output_type": "display_data"
    }
   ],
   "source": [
    "features = ['Checkout_Month', 'Checkout_WeekDay', 'Checkout_Hour',  \n",
    "            'Temperature', 'Apparent_Temperature', 'Cloud_Cover', 'Wind_Speed', 'Humidity', 'Visibility',\n",
    "            'Number_Of_Checkouts']\n",
    "plt.figure(figsize=(10,6))\n",
    "ax = sns.heatmap(data.corr())\n",
    "plt.title(\"Feature Correlations\", fontsize=18)\n",
    "plt.xticks(fontsize=14)\n",
    "plt.yticks(fontsize=14)\n",
    "plt.show()"
   ]
  },
  {
   "cell_type": "code",
   "execution_count": 71,
   "metadata": {
    "collapsed": true
   },
   "outputs": [],
   "source": [
    "data = data[['Checkout_Month', 'Checkout_WeekDay', 'Checkout_Hour', 'Temperature', 'Apparent_Temperature',\n",
    "             'Cloud_Cover', 'Wind_Speed', 'Humidity', 'Visibility', 'Number_Of_Checkouts']]"
   ]
  },
  {
   "cell_type": "code",
   "execution_count": 72,
   "metadata": {
    "collapsed": true
   },
   "outputs": [],
   "source": [
    "features = ['Checkout_Month', 'Checkout_WeekDay', 'Checkout_Hour',  \n",
    "            'Temperature', 'Apparent_Temperature', 'Cloud_Cover', 'Wind_Speed', 'Humidity', 'Visibility']\n",
    "X = data[features]\n",
    "y = data['Number_Of_Checkouts']\n",
    "X_train, X_test, y_train, y_test = train_test_split(X, y, test_size=0.3, random_state=0)"
   ]
  },
  {
   "cell_type": "code",
   "execution_count": 73,
   "metadata": {},
   "outputs": [
    {
     "data": {
      "text/plain": [
       "array([ 1.  ,  6.  ,  7.  , 38.74, 33.54,  0.17,  7.14,  0.44, 10.  ])"
      ]
     },
     "execution_count": 73,
     "metadata": {},
     "output_type": "execute_result"
    }
   ],
   "source": [
    "array = data.values\n",
    "X = array[:,0:9]\n",
    "X[0]"
   ]
  },
  {
   "cell_type": "code",
   "execution_count": 74,
   "metadata": {},
   "outputs": [
    {
     "data": {
      "text/plain": [
       "2.0"
      ]
     },
     "execution_count": 74,
     "metadata": {},
     "output_type": "execute_result"
    }
   ],
   "source": [
    "y = array[:,9]\n",
    "y[0]"
   ]
  },
  {
   "cell_type": "code",
   "execution_count": 75,
   "metadata": {
    "collapsed": true
   },
   "outputs": [],
   "source": [
    "features = [\"Checkout_Month\", \"Checkout_WeekDay\", 'Checkout_Hour', 'Temperature', \n",
    "            'Apparent_Temperature', 'Cloud_Cover', 'Wind_Speed', 'Humidity', 'Visibility']\n",
    "X = data[features]\n",
    "y = data[\"Number_Of_Checkouts\"]\n",
    "X_train, X_test, y_train, y_test = train_test_split(X, y, test_size=0.4, random_state=0)"
   ]
  },
  {
   "cell_type": "code",
   "execution_count": 76,
   "metadata": {
    "collapsed": true
   },
   "outputs": [],
   "source": [
    "def plot_feature_importances(model, plot_title):\n",
    "    n_features = X.shape[1]\n",
    "    plt.figure(figsize=(10,6))\n",
    "    feature_importance = model.feature_importances_\n",
    "    features_list = features\n",
    "    feature_importance, features_list = zip(*sorted(zip(feature_importance, features_list)))\n",
    "    plt.barh(range(len(features_list)), feature_importance, align='center')\n",
    "    plt.xticks(fontsize=14)\n",
    "    plt.yticks(np.arange(len(features_list)), features_list, fontsize=14)\n",
    "    plt.xlabel('Relative Importance', fontsize=16)\n",
    "    plt.ylabel('Feature', fontsize=16)\n",
    "    plt.title(plot_title + ' Features Importance', fontsize=20)\n",
    "    plt.show()"
   ]
  },
  {
   "cell_type": "markdown",
   "metadata": {},
   "source": [
    "### Linear Regression"
   ]
  },
  {
   "cell_type": "code",
   "execution_count": 77,
   "metadata": {},
   "outputs": [
    {
     "name": "stdout",
     "output_type": "stream",
     "text": [
      "lr.coef_: [  0.40295221  -0.33293635  -0.97766745   1.34835128  -0.0744434\n",
      "   8.09627771  -0.41860303 -23.66404265  -1.7090385 ]\n",
      "lr.intercept_: 19.858924715957635\n",
      "\n",
      "Training Set Score: 0.431\n",
      "Testing Set Score: 0.394\n"
     ]
    },
    {
     "data": {
      "text/html": [
       "<div>\n",
       "<style scoped>\n",
       "    .dataframe tbody tr th:only-of-type {\n",
       "        vertical-align: middle;\n",
       "    }\n",
       "\n",
       "    .dataframe tbody tr th {\n",
       "        vertical-align: top;\n",
       "    }\n",
       "\n",
       "    .dataframe thead th {\n",
       "        text-align: right;\n",
       "    }\n",
       "</style>\n",
       "<table border=\"1\" class=\"dataframe\">\n",
       "  <thead>\n",
       "    <tr style=\"text-align: right;\">\n",
       "      <th></th>\n",
       "      <th>Linear Regression</th>\n",
       "    </tr>\n",
       "  </thead>\n",
       "  <tbody>\n",
       "    <tr>\n",
       "      <th>R Squared</th>\n",
       "      <td>0.627964</td>\n",
       "    </tr>\n",
       "    <tr>\n",
       "      <th>RMSE</th>\n",
       "      <td>844.014548</td>\n",
       "    </tr>\n",
       "  </tbody>\n",
       "</table>\n",
       "</div>"
      ],
      "text/plain": [
       "           Linear Regression\n",
       "R Squared           0.627964\n",
       "RMSE              844.014548"
      ]
     },
     "execution_count": 77,
     "metadata": {},
     "output_type": "execute_result"
    }
   ],
   "source": [
    "# Linear Regression\n",
    "lr = linear_model.LinearRegression()\n",
    "lr.fit(X_train, y_train)\n",
    "y_predict = lr.predict(X_test)\n",
    "print(\"lr.coef_: {}\".format(lr.coef_))\n",
    "print(\"lr.intercept_: {}\".format(lr.intercept_))\n",
    "print(\"\\nTraining Set Score: {:.3f}\".format(lr.score(X_train, y_train)))\n",
    "print(\"Testing Set Score: {:.3f}\".format(lr.score(X_test, y_test)))\n",
    "lr_metrics = get_regression_metrics('Linear Regression', y_test, y_predict)\n",
    "lr_metrics"
   ]
  },
  {
   "cell_type": "markdown",
   "metadata": {},
   "source": [
    "### Lasso Regression"
   ]
  },
  {
   "cell_type": "code",
   "execution_count": 78,
   "metadata": {},
   "outputs": [
    {
     "name": "stdout",
     "output_type": "stream",
     "text": [
      "Training Set Score: 0.430\n",
      "Testing Set Score: 0.393\n"
     ]
    },
    {
     "data": {
      "text/html": [
       "<div>\n",
       "<style scoped>\n",
       "    .dataframe tbody tr th:only-of-type {\n",
       "        vertical-align: middle;\n",
       "    }\n",
       "\n",
       "    .dataframe tbody tr th {\n",
       "        vertical-align: top;\n",
       "    }\n",
       "\n",
       "    .dataframe thead th {\n",
       "        text-align: right;\n",
       "    }\n",
       "</style>\n",
       "<table border=\"1\" class=\"dataframe\">\n",
       "  <thead>\n",
       "    <tr style=\"text-align: right;\">\n",
       "      <th></th>\n",
       "      <th>Lasso Regression</th>\n",
       "    </tr>\n",
       "  </thead>\n",
       "  <tbody>\n",
       "    <tr>\n",
       "      <th>R Squared</th>\n",
       "      <td>0.627204</td>\n",
       "    </tr>\n",
       "    <tr>\n",
       "      <th>RMSE</th>\n",
       "      <td>845.345175</td>\n",
       "    </tr>\n",
       "  </tbody>\n",
       "</table>\n",
       "</div>"
      ],
      "text/plain": [
       "           Lasso Regression\n",
       "R Squared          0.627204\n",
       "RMSE             845.345175"
      ]
     },
     "execution_count": 78,
     "metadata": {},
     "output_type": "execute_result"
    }
   ],
   "source": [
    "# Lasso Regression\n",
    "lso = linear_model.Lasso(alpha=0.1)\n",
    "lso.fit(X_train, y_train)\n",
    "y_predict = lso.predict(X_test)\n",
    "print(\"Training Set Score: {:.3f}\".format(lso.score(X_train, y_train)))\n",
    "print(\"Testing Set Score: {:.3f}\".format(lso.score(X_test, y_test)))\n",
    "lso_metrics = get_regression_metrics('Lasso Regression', y_test, y_predict)\n",
    "lso_metrics"
   ]
  },
  {
   "cell_type": "markdown",
   "metadata": {},
   "source": [
    "### Ridge Regression"
   ]
  },
  {
   "cell_type": "code",
   "execution_count": 79,
   "metadata": {},
   "outputs": [
    {
     "name": "stdout",
     "output_type": "stream",
     "text": [
      "Training Set Score: 0.430\n",
      "Testing Set Score: 0.393\n"
     ]
    },
    {
     "data": {
      "text/html": [
       "<div>\n",
       "<style scoped>\n",
       "    .dataframe tbody tr th:only-of-type {\n",
       "        vertical-align: middle;\n",
       "    }\n",
       "\n",
       "    .dataframe tbody tr th {\n",
       "        vertical-align: top;\n",
       "    }\n",
       "\n",
       "    .dataframe thead th {\n",
       "        text-align: right;\n",
       "    }\n",
       "</style>\n",
       "<table border=\"1\" class=\"dataframe\">\n",
       "  <thead>\n",
       "    <tr style=\"text-align: right;\">\n",
       "      <th></th>\n",
       "      <th>Ridge Regression</th>\n",
       "    </tr>\n",
       "  </thead>\n",
       "  <tbody>\n",
       "    <tr>\n",
       "      <th>R Squared</th>\n",
       "      <td>0.627204</td>\n",
       "    </tr>\n",
       "    <tr>\n",
       "      <th>RMSE</th>\n",
       "      <td>845.345175</td>\n",
       "    </tr>\n",
       "  </tbody>\n",
       "</table>\n",
       "</div>"
      ],
      "text/plain": [
       "           Ridge Regression\n",
       "R Squared          0.627204\n",
       "RMSE             845.345175"
      ]
     },
     "execution_count": 79,
     "metadata": {},
     "output_type": "execute_result"
    }
   ],
   "source": [
    "# Ridge Regression\n",
    "rge = linear_model.Lasso(alpha=0.1)\n",
    "rge.fit(X_train, y_train)\n",
    "y_predict = rge.predict(X_test)\n",
    "print(\"Training Set Score: {:.3f}\".format(rge.score(X_train, y_train)))\n",
    "print(\"Testing Set Score: {:.3f}\".format(rge.score(X_test, y_test)))\n",
    "rge_metrics = get_regression_metrics('Ridge Regression', y_test, y_predict)\n",
    "rge_metrics"
   ]
  },
  {
   "cell_type": "markdown",
   "metadata": {},
   "source": [
    "### Bayesian Ridge Regression"
   ]
  },
  {
   "cell_type": "code",
   "execution_count": 80,
   "metadata": {},
   "outputs": [
    {
     "name": "stdout",
     "output_type": "stream",
     "text": [
      "Training Set Score: 0.431\n",
      "Testing Set Score: 0.394\n"
     ]
    },
    {
     "data": {
      "text/html": [
       "<div>\n",
       "<style scoped>\n",
       "    .dataframe tbody tr th:only-of-type {\n",
       "        vertical-align: middle;\n",
       "    }\n",
       "\n",
       "    .dataframe tbody tr th {\n",
       "        vertical-align: top;\n",
       "    }\n",
       "\n",
       "    .dataframe thead th {\n",
       "        text-align: right;\n",
       "    }\n",
       "</style>\n",
       "<table border=\"1\" class=\"dataframe\">\n",
       "  <thead>\n",
       "    <tr style=\"text-align: right;\">\n",
       "      <th></th>\n",
       "      <th>Bayesion Ridge Regression</th>\n",
       "    </tr>\n",
       "  </thead>\n",
       "  <tbody>\n",
       "    <tr>\n",
       "      <th>R Squared</th>\n",
       "      <td>0.627795</td>\n",
       "    </tr>\n",
       "    <tr>\n",
       "      <th>RMSE</th>\n",
       "      <td>844.311537</td>\n",
       "    </tr>\n",
       "  </tbody>\n",
       "</table>\n",
       "</div>"
      ],
      "text/plain": [
       "           Bayesion Ridge Regression\n",
       "R Squared                   0.627795\n",
       "RMSE                      844.311537"
      ]
     },
     "execution_count": 80,
     "metadata": {},
     "output_type": "execute_result"
    }
   ],
   "source": [
    "# Bayesian Ridge Regression\n",
    "brr = linear_model.BayesianRidge()\n",
    "brr.fit(X_train, y_train)\n",
    "y_predict = brr.predict(X_test)\n",
    "print(\"Training Set Score: {:.3f}\".format(brr.score(X_train, y_train)))\n",
    "print(\"Testing Set Score: {:.3f}\".format(brr.score(X_test, y_test)))\n",
    "brr_metrics = get_regression_metrics('Bayesion Ridge Regression', y_test, y_predict)\n",
    "brr_metrics"
   ]
  },
  {
   "cell_type": "markdown",
   "metadata": {},
   "source": [
    "### Decision Tree Regression"
   ]
  },
  {
   "cell_type": "code",
   "execution_count": 81,
   "metadata": {
    "scrolled": true
   },
   "outputs": [
    {
     "name": "stdout",
     "output_type": "stream",
     "text": [
      "Training Set Score: 1.000\n",
      "Testing Set Score: 0.703\n"
     ]
    },
    {
     "data": {
      "text/html": [
       "<div>\n",
       "<style scoped>\n",
       "    .dataframe tbody tr th:only-of-type {\n",
       "        vertical-align: middle;\n",
       "    }\n",
       "\n",
       "    .dataframe tbody tr th {\n",
       "        vertical-align: top;\n",
       "    }\n",
       "\n",
       "    .dataframe thead th {\n",
       "        text-align: right;\n",
       "    }\n",
       "</style>\n",
       "<table border=\"1\" class=\"dataframe\">\n",
       "  <thead>\n",
       "    <tr style=\"text-align: right;\">\n",
       "      <th></th>\n",
       "      <th>Decision Tree Regression</th>\n",
       "    </tr>\n",
       "  </thead>\n",
       "  <tbody>\n",
       "    <tr>\n",
       "      <th>R Squared</th>\n",
       "      <td>0.838367</td>\n",
       "    </tr>\n",
       "    <tr>\n",
       "      <th>RMSE</th>\n",
       "      <td>414.078216</td>\n",
       "    </tr>\n",
       "  </tbody>\n",
       "</table>\n",
       "</div>"
      ],
      "text/plain": [
       "           Decision Tree Regression\n",
       "R Squared                  0.838367\n",
       "RMSE                     414.078216"
      ]
     },
     "execution_count": 81,
     "metadata": {},
     "output_type": "execute_result"
    }
   ],
   "source": [
    "# Decision Tree Regression\n",
    "dtr = DecisionTreeRegressor(random_state=0)\n",
    "dtr.fit(X_train, y_train)\n",
    "y_predict = dtr.predict(X_test)\n",
    "print(\"Training Set Score: {:.3f}\".format(dtr.score(X_train, y_train)))\n",
    "print(\"Testing Set Score: {:.3f}\".format(dtr.score(X_test, y_test)))\n",
    "dtr_metrics = get_regression_metrics('Decision Tree Regression', y_test, y_predict)\n",
    "dtr_metrics"
   ]
  },
  {
   "cell_type": "code",
   "execution_count": 82,
   "metadata": {},
   "outputs": [
    {
     "data": {
      "image/png": "[encoded data removed]",
      "text/plain": [
       "<matplotlib.figure.Figure at 0x2a6c04702e8>"
      ]
     },
     "metadata": {},
     "output_type": "display_data"
    }
   ],
   "source": [
    "plot_feature_importances(dtr, 'Decision Tree Regression')"
   ]
  },
  {
   "cell_type": "markdown",
   "metadata": {},
   "source": [
    "\n",
    "### Random Forest Regression"
   ]
  },
  {
   "cell_type": "code",
   "execution_count": 83,
   "metadata": {},
   "outputs": [
    {
     "name": "stdout",
     "output_type": "stream",
     "text": [
      "Training Set Score: 0.970\n",
      "Testing Set Score: 0.827\n"
     ]
    },
    {
     "data": {
      "text/html": [
       "<div>\n",
       "<style scoped>\n",
       "    .dataframe tbody tr th:only-of-type {\n",
       "        vertical-align: middle;\n",
       "    }\n",
       "\n",
       "    .dataframe tbody tr th {\n",
       "        vertical-align: top;\n",
       "    }\n",
       "\n",
       "    .dataframe thead th {\n",
       "        text-align: right;\n",
       "    }\n",
       "</style>\n",
       "<table border=\"1\" class=\"dataframe\">\n",
       "  <thead>\n",
       "    <tr style=\"text-align: right;\">\n",
       "      <th></th>\n",
       "      <th>Random Forest Regression</th>\n",
       "    </tr>\n",
       "  </thead>\n",
       "  <tbody>\n",
       "    <tr>\n",
       "      <th>R Squared</th>\n",
       "      <td>0.909444</td>\n",
       "    </tr>\n",
       "    <tr>\n",
       "      <th>RMSE</th>\n",
       "      <td>240.959898</td>\n",
       "    </tr>\n",
       "  </tbody>\n",
       "</table>\n",
       "</div>"
      ],
      "text/plain": [
       "           Random Forest Regression\n",
       "R Squared                  0.909444\n",
       "RMSE                     240.959898"
      ]
     },
     "execution_count": 83,
     "metadata": {},
     "output_type": "execute_result"
    }
   ],
   "source": [
    "# Random Forest Regression\n",
    "rfr = RandomForestRegressor(random_state=0)\n",
    "rfr.fit(X_train, y_train)\n",
    "y_predict = rfr.predict(X_test)\n",
    "print(\"Training Set Score: {:.3f}\".format(rfr.score(X_train, y_train)))\n",
    "print(\"Testing Set Score: {:.3f}\".format(rfr.score(X_test, y_test)))\n",
    "rfr_metrics = get_regression_metrics('Random Forest Regression', y_test, y_predict)\n",
    "rfr_metrics"
   ]
  },
  {
   "cell_type": "code",
   "execution_count": 84,
   "metadata": {},
   "outputs": [
    {
     "data": {
      "image/png": "[encoded data removed]",
      "text/plain": [
       "<matplotlib.figure.Figure at 0x2a6c052fe10>"
      ]
     },
     "metadata": {},
     "output_type": "display_data"
    }
   ],
   "source": [
    "plot_feature_importances(rfr, 'Random Forest Regression')"
   ]
  },
  {
   "cell_type": "markdown",
   "metadata": {},
   "source": [
    "### Extra Trees Regression"
   ]
  },
  {
   "cell_type": "code",
   "execution_count": 85,
   "metadata": {},
   "outputs": [
    {
     "name": "stdout",
     "output_type": "stream",
     "text": [
      "Training Set Score: 1.000\n",
      "Testing Set Score: 0.827\n"
     ]
    },
    {
     "data": {
      "text/html": [
       "<div>\n",
       "<style scoped>\n",
       "    .dataframe tbody tr th:only-of-type {\n",
       "        vertical-align: middle;\n",
       "    }\n",
       "\n",
       "    .dataframe tbody tr th {\n",
       "        vertical-align: top;\n",
       "    }\n",
       "\n",
       "    .dataframe thead th {\n",
       "        text-align: right;\n",
       "    }\n",
       "</style>\n",
       "<table border=\"1\" class=\"dataframe\">\n",
       "  <thead>\n",
       "    <tr style=\"text-align: right;\">\n",
       "      <th></th>\n",
       "      <th>Extra Trees Regression</th>\n",
       "    </tr>\n",
       "  </thead>\n",
       "  <tbody>\n",
       "    <tr>\n",
       "      <th>R Squared</th>\n",
       "      <td>0.909507</td>\n",
       "    </tr>\n",
       "    <tr>\n",
       "      <th>RMSE</th>\n",
       "      <td>240.800164</td>\n",
       "    </tr>\n",
       "  </tbody>\n",
       "</table>\n",
       "</div>"
      ],
      "text/plain": [
       "           Extra Trees Regression\n",
       "R Squared                0.909507\n",
       "RMSE                   240.800164"
      ]
     },
     "execution_count": 85,
     "metadata": {},
     "output_type": "execute_result"
    }
   ],
   "source": [
    "# Extra Trees Regression\n",
    "etr = ExtraTreesRegressor(random_state=0)\n",
    "etr.fit(X_train, y_train)\n",
    "y_predict = etr.predict(X_test)\n",
    "print(\"Training Set Score: {:.3f}\".format(etr.score(X_train, y_train)))\n",
    "print(\"Testing Set Score: {:.3f}\".format(etr.score(X_test, y_test)))\n",
    "etr_metrics = get_regression_metrics('Extra Trees Regression', y_test, y_predict)\n",
    "etr_metrics"
   ]
  },
  {
   "cell_type": "code",
   "execution_count": 86,
   "metadata": {},
   "outputs": [
    {
     "data": {
      "image/png": "[encoded data removed]",
      "text/plain": [
       "<matplotlib.figure.Figure at 0x2a6c07d5da0>"
      ]
     },
     "metadata": {},
     "output_type": "display_data"
    }
   ],
   "source": [
    "plot_feature_importances(etr, 'Extra Trees Regression')"
   ]
  },
  {
   "cell_type": "markdown",
   "metadata": {},
   "source": [
    "### Nearest Neighbors Regression"
   ]
  },
  {
   "cell_type": "code",
   "execution_count": 87,
   "metadata": {},
   "outputs": [
    {
     "name": "stdout",
     "output_type": "stream",
     "text": [
      "Training Set Score: 0.888\n",
      "Testing Set Score: 0.610\n"
     ]
    },
    {
     "data": {
      "text/html": [
       "<div>\n",
       "<style scoped>\n",
       "    .dataframe tbody tr th:only-of-type {\n",
       "        vertical-align: middle;\n",
       "    }\n",
       "\n",
       "    .dataframe tbody tr th {\n",
       "        vertical-align: top;\n",
       "    }\n",
       "\n",
       "    .dataframe thead th {\n",
       "        text-align: right;\n",
       "    }\n",
       "</style>\n",
       "<table border=\"1\" class=\"dataframe\">\n",
       "  <thead>\n",
       "    <tr style=\"text-align: right;\">\n",
       "      <th></th>\n",
       "      <th>Nearest Neighbors Regression</th>\n",
       "    </tr>\n",
       "  </thead>\n",
       "  <tbody>\n",
       "    <tr>\n",
       "      <th>R Squared</th>\n",
       "      <td>0.780789</td>\n",
       "    </tr>\n",
       "    <tr>\n",
       "      <th>RMSE</th>\n",
       "      <td>543.995888</td>\n",
       "    </tr>\n",
       "  </tbody>\n",
       "</table>\n",
       "</div>"
      ],
      "text/plain": [
       "           Nearest Neighbors Regression\n",
       "R Squared                      0.780789\n",
       "RMSE                         543.995888"
      ]
     },
     "execution_count": 87,
     "metadata": {},
     "output_type": "execute_result"
    }
   ],
   "source": [
    "# Nearest Neighbors Regression\n",
    "knr = KNeighborsRegressor(n_neighbors=2)\n",
    "knr.fit(X_train, y_train)\n",
    "y_predict = knr.predict(X_test)\n",
    "print(\"Training Set Score: {:.3f}\".format(knr.score(X_train, y_train)))\n",
    "print(\"Testing Set Score: {:.3f}\".format(knr.score(X_test, y_test)))\n",
    "knr_metrics = get_regression_metrics('Nearest Neighbors Regression', y_test, y_predict)\n",
    "knr_metrics"
   ]
  },
  {
   "cell_type": "markdown",
   "metadata": {},
   "source": [
    "## Regression Summary with Numerical Feature Set"
   ]
  },
  {
   "cell_type": "code",
   "execution_count": 88,
   "metadata": {},
   "outputs": [
    {
     "name": "stdout",
     "output_type": "stream",
     "text": [
      "Regression Summary With Numericical Feature Set\n"
     ]
    },
    {
     "data": {
      "text/html": [
       "<div>\n",
       "<style scoped>\n",
       "    .dataframe tbody tr th:only-of-type {\n",
       "        vertical-align: middle;\n",
       "    }\n",
       "\n",
       "    .dataframe tbody tr th {\n",
       "        vertical-align: top;\n",
       "    }\n",
       "\n",
       "    .dataframe thead th {\n",
       "        text-align: right;\n",
       "    }\n",
       "</style>\n",
       "<table border=\"1\" class=\"dataframe\">\n",
       "  <thead>\n",
       "    <tr style=\"text-align: right;\">\n",
       "      <th></th>\n",
       "      <th>Linear Regression</th>\n",
       "      <th>Lasso Regression</th>\n",
       "      <th>Ridge Regression</th>\n",
       "      <th>Bayesion Ridge Regression</th>\n",
       "      <th>Decision Tree Regression</th>\n",
       "      <th>Random Forest Regression</th>\n",
       "      <th>Extra Trees Regression</th>\n",
       "      <th>Nearest Neighbors Regression</th>\n",
       "    </tr>\n",
       "  </thead>\n",
       "  <tbody>\n",
       "    <tr>\n",
       "      <th>R Squared</th>\n",
       "      <td>0.627964</td>\n",
       "      <td>0.627204</td>\n",
       "      <td>0.627204</td>\n",
       "      <td>0.627795</td>\n",
       "      <td>0.838367</td>\n",
       "      <td>0.909444</td>\n",
       "      <td>0.909507</td>\n",
       "      <td>0.780789</td>\n",
       "    </tr>\n",
       "    <tr>\n",
       "      <th>RMSE</th>\n",
       "      <td>844.014548</td>\n",
       "      <td>845.345175</td>\n",
       "      <td>845.345175</td>\n",
       "      <td>844.311537</td>\n",
       "      <td>414.078216</td>\n",
       "      <td>240.959898</td>\n",
       "      <td>240.800164</td>\n",
       "      <td>543.995888</td>\n",
       "    </tr>\n",
       "  </tbody>\n",
       "</table>\n",
       "</div>"
      ],
      "text/plain": [
       "           Linear Regression  Lasso Regression  Ridge Regression  Bayesion Ridge Regression  Decision Tree Regression  Random Forest Regression  Extra Trees Regression  Nearest Neighbors Regression\n",
       "R Squared           0.627964          0.627204          0.627204                   0.627795                  0.838367                  0.909444                0.909507                      0.780789\n",
       "RMSE              844.014548        845.345175        845.345175                 844.311537                414.078216                240.959898              240.800164                    543.995888"
      ]
     },
     "execution_count": 88,
     "metadata": {},
     "output_type": "execute_result"
    }
   ],
   "source": [
    "# Regression Summary\n",
    "print(\"Regression Summary With Numericical Feature Set\")\n",
    "regression_metrics = pd.concat([lr_metrics, lso_metrics, rge_metrics, brr_metrics, dtr_metrics,\n",
    "                                rfr_metrics, etr_metrics, knr_metrics] , axis=1)\n",
    "regression_metrics.sort_index()"
   ]
  },
  {
   "cell_type": "markdown",
   "metadata": {},
   "source": [
    "## Test Random Forest Regressor on Unseen Samples"
   ]
  },
  {
   "cell_type": "code",
   "execution_count": 89,
   "metadata": {},
   "outputs": [
    {
     "name": "stdout",
     "output_type": "stream",
     "text": [
      "pred = [ 21.8  10.3  48.5   1.9  29.5 117.2  79.6   8.7 118.8 126.5]\n",
      "act =  [ 21.   7.  44.   2.  25. 100.  83.  11. 129. 126.]\n"
     ]
    }
   ],
   "source": [
    "dUT = dUT[['Checkout_Month', 'Checkout_WeekDay', 'Checkout_Hour', 'Temperature', 'Apparent_Temperature',\n",
    "             'Cloud_Cover', 'Wind_Speed', 'Humidity', 'Visibility', 'Number_Of_Checkouts']]\n",
    "features = ['Checkout_Month', 'Checkout_WeekDay', 'Checkout_Hour',  \n",
    "                 'Temperature', 'Apparent_Temperature', 'Cloud_Cover', 'Wind_Speed', 'Humidity', 'Visibility']\n",
    "pred_X = dUT[features]\n",
    "act_y = dUT['Number_Of_Checkouts']\n",
    "pred_array = dUT.values\n",
    "pred_X_array = pred_array[:,0:9]\n",
    "act_y_array = pred_array[:,9]\n",
    "rfr = RandomForestRegressor(random_state=0)\n",
    "rfr.fit(X, y)\n",
    "pred = rfr.predict(pred_X_array)\n",
    "print('pred =', pred)\n",
    "print('act = ', act_y_array)"
   ]
  },
  {
   "cell_type": "markdown",
   "metadata": {},
   "source": [
    "## 4. Summary\n",
    "\n",
    "With reduced features, the Random Forest model attains the highest accuracy with the lowest RMSE. The linear models have almost four times higher RMSE values as compared to the Random Forest model. This suggests that the prediction can be improved even with reduced features."
   ]
  }
 ],
 "metadata": {
  "anaconda-cloud": {},
  "kernelspec": {
   "display_name": "Python 3",
   "language": "python",
   "name": "python3"
  },
  "language_info": {
   "codemirror_mode": {
    "name": "ipython",
    "version": 3
   },
   "file_extension": ".py",
   "mimetype": "text/x-python",
   "name": "python",
   "nbconvert_exporter": "python",
   "pygments_lexer": "ipython3",
   "version": "3.6.3"
  }
 },
 "nbformat": 4,
 "nbformat_minor": 1
}
