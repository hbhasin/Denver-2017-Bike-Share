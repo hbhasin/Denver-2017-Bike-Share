{
 "cells": [
  {
   "cell_type": "code",
   "execution_count": 1,
   "metadata": {},
   "outputs": [],
   "source": [
    "import pandas as pd\n",
    "import csv\n",
    "import zipfile"
   ]
  },
  {
   "cell_type": "code",
   "execution_count": 2,
   "metadata": {},
   "outputs": [],
   "source": [
    "dF = pd.read_excel(\"http://denver.bcycle.com/docs/librariesprovider34/default-document-library/annual-reports/denverbcycletripdata_2017_public.xlsx\")"
   ]
  },
  {
   "cell_type": "code",
   "execution_count": 3,
   "metadata": {},
   "outputs": [],
   "source": [
    "# rename columns to make them more descriptive and replace spaces with special characters with underscores\n",
    "new_colnames = ['User_Program', 'User_ID', 'Membership_Type', 'Bike_Number', 'Checkout_Date', 'Checkout_Time',\n",
    "                'Checkout_Kiosk', 'Checkout_Method', 'Return_Date', 'Return_Time', 'Return_Kiosk', 'Trip_Duration']\n",
    "dF.columns = new_colnames"
   ]
  },
  {
   "cell_type": "code",
   "execution_count": 4,
   "metadata": {},
   "outputs": [],
   "source": [
    "dF[['Bike_Number']] = dF[['Bike_Number']].astype(object)"
   ]
  },
  {
   "cell_type": "code",
   "execution_count": 5,
   "metadata": {},
   "outputs": [
    {
     "data": {
      "text/plain": [
       "(344256, 12)"
      ]
     },
     "execution_count": 5,
     "metadata": {},
     "output_type": "execute_result"
    }
   ],
   "source": [
    "dF.shape"
   ]
  },
  {
   "cell_type": "code",
   "execution_count": 6,
   "metadata": {},
   "outputs": [
    {
     "name": "stdout",
     "output_type": "stream",
     "text": [
      "<class 'pandas.core.frame.DataFrame'>\n",
      "RangeIndex: 344256 entries, 0 to 344255\n",
      "Data columns (total 12 columns):\n",
      "User_Program       344256 non-null object\n",
      "User_ID            344256 non-null int64\n",
      "Membership_Type    344256 non-null object\n",
      "Bike_Number        344256 non-null object\n",
      "Checkout_Date      344256 non-null datetime64[ns]\n",
      "Checkout_Time      344256 non-null object\n",
      "Checkout_Kiosk     344256 non-null object\n",
      "Checkout_Method    344256 non-null object\n",
      "Return_Date        344256 non-null datetime64[ns]\n",
      "Return_Time        344256 non-null object\n",
      "Return_Kiosk       344256 non-null object\n",
      "Trip_Duration      344256 non-null int64\n",
      "dtypes: datetime64[ns](2), int64(2), object(8)\n",
      "memory usage: 31.5+ MB\n"
     ]
    }
   ],
   "source": [
    "dF.info()"
   ]
  },
  {
   "cell_type": "code",
   "execution_count": 7,
   "metadata": {},
   "outputs": [],
   "source": [
    "dF.to_csv(\"data/Denver_2017_Bike_Share_Trip_Data.gz\", index=False, compression=\"gzip\")"
   ]
  },
  {
   "cell_type": "code",
   "execution_count": 8,
   "metadata": {},
   "outputs": [],
   "source": [
    "dK = pd.read_excel(\"http://denver.bcycle.com/docs/librariesprovider34/default-document-library/annual-reports/2018-kiosks-info.xlsx\")"
   ]
  },
  {
   "cell_type": "code",
   "execution_count": 9,
   "metadata": {},
   "outputs": [
    {
     "data": {
      "text/plain": [
       "'\\xa0 Kiosk Name'"
      ]
     },
     "execution_count": 9,
     "metadata": {},
     "output_type": "execute_result"
    }
   ],
   "source": [
    "dK.columns.values[0]"
   ]
  },
  {
   "cell_type": "code",
   "execution_count": 10,
   "metadata": {},
   "outputs": [
    {
     "name": "stdout",
     "output_type": "stream",
     "text": [
      "<class 'pandas.core.frame.DataFrame'>\n",
      "RangeIndex: 90 entries, 0 to 89\n",
      "Data columns (total 5 columns):\n",
      "  Kiosk Name    90 non-null object\n",
      "Address         90 non-null object\n",
      "Longitude       90 non-null float64\n",
      "Latitude        90 non-null float64\n",
      "Total Docks     90 non-null int64\n",
      "dtypes: float64(2), int64(1), object(2)\n",
      "memory usage: 3.6+ KB\n"
     ]
    }
   ],
   "source": [
    "dK.info()"
   ]
  },
  {
   "cell_type": "code",
   "execution_count": 11,
   "metadata": {},
   "outputs": [],
   "source": [
    "dK.rename(columns = {'\\xa0 Kiosk Name': 'Checkout_Kiosk'}, inplace = True)"
   ]
  },
  {
   "cell_type": "code",
   "execution_count": 12,
   "metadata": {},
   "outputs": [],
   "source": [
    "dK.drop(['Address', 'Total Docks'], axis = 1, inplace = True)"
   ]
  },
  {
   "cell_type": "code",
   "execution_count": 13,
   "metadata": {},
   "outputs": [],
   "source": [
    "dK = dK[['Checkout_Kiosk', 'Latitude', 'Longitude']]"
   ]
  },
  {
   "cell_type": "code",
   "execution_count": 14,
   "metadata": {},
   "outputs": [],
   "source": [
    "dK['Return_Kiosk'] = dK['Checkout_Kiosk']"
   ]
  },
  {
   "cell_type": "code",
   "execution_count": 15,
   "metadata": {},
   "outputs": [],
   "source": [
    "dK['Return_Kiosk_Latitude'] = dK['Latitude']"
   ]
  },
  {
   "cell_type": "code",
   "execution_count": 16,
   "metadata": {},
   "outputs": [],
   "source": [
    "dK['Return_Kiosk_Longitude'] = dK['Longitude']"
   ]
  },
  {
   "cell_type": "code",
   "execution_count": 17,
   "metadata": {},
   "outputs": [],
   "source": [
    "# rename columns to make them more descriptive and replace spaces with special characters with underscores\n",
    "dK.rename(columns = {'Latitude': 'Checkout_Kiosk_Latitude',\n",
    "                     'Longitude': 'Checkout_Kiosk_Longitude'}, inplace = True)"
   ]
  },
  {
   "cell_type": "code",
   "execution_count": 18,
   "metadata": {},
   "outputs": [
    {
     "data": {
      "text/html": [
       "<div>\n",
       "<style scoped>\n",
       "    .dataframe tbody tr th:only-of-type {\n",
       "        vertical-align: middle;\n",
       "    }\n",
       "\n",
       "    .dataframe tbody tr th {\n",
       "        vertical-align: top;\n",
       "    }\n",
       "\n",
       "    .dataframe thead th {\n",
       "        text-align: right;\n",
       "    }\n",
       "</style>\n",
       "<table border=\"1\" class=\"dataframe\">\n",
       "  <thead>\n",
       "    <tr style=\"text-align: right;\">\n",
       "      <th></th>\n",
       "      <th>Checkout_Kiosk</th>\n",
       "      <th>Checkout_Kiosk_Latitude</th>\n",
       "      <th>Checkout_Kiosk_Longitude</th>\n",
       "      <th>Return_Kiosk</th>\n",
       "      <th>Return_Kiosk_Latitude</th>\n",
       "      <th>Return_Kiosk_Longitude</th>\n",
       "    </tr>\n",
       "  </thead>\n",
       "  <tbody>\n",
       "    <tr>\n",
       "      <th>0</th>\n",
       "      <td>10th &amp; Osage</td>\n",
       "      <td>39.73205</td>\n",
       "      <td>-105.00511</td>\n",
       "      <td>10th &amp; Osage</td>\n",
       "      <td>39.73205</td>\n",
       "      <td>-105.00511</td>\n",
       "    </tr>\n",
       "    <tr>\n",
       "      <th>1</th>\n",
       "      <td>11th &amp; Broadway</td>\n",
       "      <td>39.73395</td>\n",
       "      <td>-104.98772</td>\n",
       "      <td>11th &amp; Broadway</td>\n",
       "      <td>39.73395</td>\n",
       "      <td>-104.98772</td>\n",
       "    </tr>\n",
       "    <tr>\n",
       "      <th>2</th>\n",
       "      <td>11th &amp; Delaware</td>\n",
       "      <td>39.73372</td>\n",
       "      <td>-104.99302</td>\n",
       "      <td>11th &amp; Delaware</td>\n",
       "      <td>39.73372</td>\n",
       "      <td>-104.99302</td>\n",
       "    </tr>\n",
       "    <tr>\n",
       "      <th>3</th>\n",
       "      <td>11th &amp; Emerson</td>\n",
       "      <td>39.73361</td>\n",
       "      <td>-104.97629</td>\n",
       "      <td>11th &amp; Emerson</td>\n",
       "      <td>39.73361</td>\n",
       "      <td>-104.97629</td>\n",
       "    </tr>\n",
       "    <tr>\n",
       "      <th>4</th>\n",
       "      <td>11th &amp; Ogden</td>\n",
       "      <td>39.73361</td>\n",
       "      <td>-104.97554</td>\n",
       "      <td>11th &amp; Ogden</td>\n",
       "      <td>39.73361</td>\n",
       "      <td>-104.97554</td>\n",
       "    </tr>\n",
       "  </tbody>\n",
       "</table>\n",
       "</div>"
      ],
      "text/plain": [
       "    Checkout_Kiosk  Checkout_Kiosk_Latitude  Checkout_Kiosk_Longitude  \\\n",
       "0     10th & Osage                 39.73205                -105.00511   \n",
       "1  11th & Broadway                 39.73395                -104.98772   \n",
       "2  11th & Delaware                 39.73372                -104.99302   \n",
       "3   11th & Emerson                 39.73361                -104.97629   \n",
       "4     11th & Ogden                 39.73361                -104.97554   \n",
       "\n",
       "      Return_Kiosk  Return_Kiosk_Latitude  Return_Kiosk_Longitude  \n",
       "0     10th & Osage               39.73205              -105.00511  \n",
       "1  11th & Broadway               39.73395              -104.98772  \n",
       "2  11th & Delaware               39.73372              -104.99302  \n",
       "3   11th & Emerson               39.73361              -104.97629  \n",
       "4     11th & Ogden               39.73361              -104.97554  "
      ]
     },
     "execution_count": 18,
     "metadata": {},
     "output_type": "execute_result"
    }
   ],
   "source": [
    "dK.head()"
   ]
  },
  {
   "cell_type": "code",
   "execution_count": 20,
   "metadata": {},
   "outputs": [],
   "source": [
    "dK.to_csv(\"data/Denver_2017_Bike_Share_Kiosks_Info.gz\", index=False, compression=\"gzip\")"
   ]
  }
 ],
 "metadata": {
  "anaconda-cloud": {},
  "kernelspec": {
   "display_name": "Python 3",
   "language": "python",
   "name": "python3"
  },
  "language_info": {
   "codemirror_mode": {
    "name": "ipython",
    "version": 3
   },
   "file_extension": ".py",
   "mimetype": "text/x-python",
   "name": "python",
   "nbconvert_exporter": "python",
   "pygments_lexer": "ipython3",
   "version": "3.6.4"
  }
 },
 "nbformat": 4,
 "nbformat_minor": 1
}
