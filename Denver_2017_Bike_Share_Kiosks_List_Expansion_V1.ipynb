{
 "cells": [
  {
   "cell_type": "code",
   "execution_count": 1,
   "metadata": {},
   "outputs": [],
   "source": [
    "%matplotlib inline\n",
    "import pandas as pd\n",
    "import csv\n",
    "import sys"
   ]
  },
  {
   "cell_type": "code",
   "execution_count": 2,
   "metadata": {},
   "outputs": [
    {
     "data": {
      "text/html": [
       "<style>body {\n",
       "    margin: 0;\n",
       "    font-family: Helvetica;\n",
       "}\n",
       "table.dataframe {\n",
       "    border-collapse: collapse;\n",
       "    border: none;\n",
       "}\n",
       "table.dataframe tr {\n",
       "    border: none;\n",
       "}\n",
       "table.dataframe td, table.dataframe th {\n",
       "    margin: 0;\n",
       "    border: 1px solid white;\n",
       "    padding-left: 0.25em;\n",
       "    padding-right: 0.25em;\n",
       "}\n",
       "table.dataframe th:not(:empty) {\n",
       "    background-color: #fec;\n",
       "    text-align: left;\n",
       "    font-weight: normal;\n",
       "}\n",
       "table.dataframe tr:nth-child(2) th:empty {\n",
       "    border-left: none;\n",
       "    border-right: 1px dashed #888;\n",
       "}\n",
       "table.dataframe td {\n",
       "    border: 2px solid #ccf;\n",
       "    background-color: #f4f4ff;\n",
       "}\n",
       "h3 {\n",
       "    color: white;\n",
       "    background-color: black;\n",
       "    padding: 0.5em;\n",
       "}\n",
       "</style>"
      ],
      "text/plain": [
       "<IPython.core.display.HTML object>"
      ]
     },
     "execution_count": 2,
     "metadata": {},
     "output_type": "execute_result"
    }
   ],
   "source": [
    "from IPython.core.display import HTML\n",
    "css = open('style-table.css').read() + open('style-notebook.css').read()\n",
    "HTML('<style>{}</style>'.format(css))"
   ]
  },
  {
   "cell_type": "code",
   "execution_count": 3,
   "metadata": {},
   "outputs": [],
   "source": [
    "# read in Kiosk information\n",
    "dC = pd.read_csv(\"data/Denver_2017_Bike_Share_Kiosks_Info.gz\", compression=\"gzip\")"
   ]
  },
  {
   "cell_type": "code",
   "execution_count": 4,
   "metadata": {},
   "outputs": [
    {
     "name": "stdout",
     "output_type": "stream",
     "text": [
      "<class 'pandas.core.frame.DataFrame'>\n",
      "RangeIndex: 90 entries, 0 to 89\n",
      "Data columns (total 6 columns):\n",
      "Checkout_Kiosk              90 non-null object\n",
      "Checkout_Kiosk_Latitude     90 non-null float64\n",
      "Checkout_Kiosk_Longitude    90 non-null float64\n",
      "Return_Kiosk                90 non-null object\n",
      "Return_Kiosk_Latitude       90 non-null float64\n",
      "Return_Kiosk_Longitude      90 non-null float64\n",
      "dtypes: float64(4), object(2)\n",
      "memory usage: 4.3+ KB\n"
     ]
    }
   ],
   "source": [
    "dC.info()"
   ]
  },
  {
   "cell_type": "code",
   "execution_count": 5,
   "metadata": {},
   "outputs": [],
   "source": [
    "# make a copy for Return Kiosks\n",
    "dR = dC.copy(deep=True)"
   ]
  },
  {
   "cell_type": "code",
   "execution_count": 6,
   "metadata": {},
   "outputs": [],
   "source": [
    "dC.drop(['Return_Kiosk', 'Return_Kiosk_Latitude', 'Return_Kiosk_Longitude'], axis = 1, inplace=True)"
   ]
  },
  {
   "cell_type": "code",
   "execution_count": 7,
   "metadata": {},
   "outputs": [],
   "source": [
    "dC.to_csv('data/Denver_2017_Bike_Share_Checkout_Kiosks_Details.csv', index = False)"
   ]
  },
  {
   "cell_type": "code",
   "execution_count": 8,
   "metadata": {},
   "outputs": [],
   "source": [
    "dR.drop(['Checkout_Kiosk', 'Checkout_Kiosk_Latitude', 'Checkout_Kiosk_Longitude'], axis = 1, inplace=True)"
   ]
  },
  {
   "cell_type": "code",
   "execution_count": 9,
   "metadata": {},
   "outputs": [],
   "source": [
    "dR.to_csv('data/Denver_2017_Bike_Share_Return_Kiosks_Details.csv', index = False)"
   ]
  },
  {
   "cell_type": "code",
   "execution_count": 10,
   "metadata": {},
   "outputs": [],
   "source": [
    "with open('data/Denver_2017_Bike_Share_Checkout_Kiosks_Details.csv', 'r') as f:\n",
    "    reader = csv.reader(f)\n",
    "    CK_list = list(reader)\n",
    "f.close()"
   ]
  },
  {
   "cell_type": "code",
   "execution_count": 11,
   "metadata": {},
   "outputs": [],
   "source": [
    "with open('data/Denver_2017_Bike_Share_Return_Kiosks_Details.csv', 'r') as f:\n",
    "    reader = csv.reader(f)\n",
    "    RT_list = list(reader)\n",
    "f.close()"
   ]
  },
  {
   "cell_type": "code",
   "execution_count": 12,
   "metadata": {},
   "outputs": [],
   "source": [
    "colNames = []\n",
    "with open(\"data/Denver_2017_Bike_Share_Kiosks_Details.csv\", \"w\", newline='') as f:\n",
    "    writer = csv.writer(f)\n",
    "    colNames = [\"Checkout_Kiosk\", \"Checkout_Kiosk_Latitude\", \"Checkout_Kiosk_Longitude\",\n",
    "         \"Return_Kiosk\", \"Return_Kiosk_Latitude\", \"Return_Kiosk_Longitude\"]\n",
    "    writer.writerow(colNames)\n",
    "    for CheckoutKioskRow in CK_list[1:]:\n",
    "        CheckoutKiosk = CheckoutKioskRow[0]\n",
    "        for ReturnKioskRow in RT_list[1:]:\n",
    "            if CheckoutKiosk in ReturnKioskRow:\n",
    "                pass\n",
    "            else:\n",
    "                result = (CheckoutKioskRow + ReturnKioskRow)\n",
    "                writer.writerow(result)\n",
    "f.close()"
   ]
  }
 ],
 "metadata": {
  "anaconda-cloud": {},
  "kernelspec": {
   "display_name": "Python 3",
   "language": "python",
   "name": "python3"
  },
  "language_info": {
   "codemirror_mode": {
    "name": "ipython",
    "version": 3
   },
   "file_extension": ".py",
   "mimetype": "text/x-python",
   "name": "python",
   "nbconvert_exporter": "python",
   "pygments_lexer": "ipython3",
   "version": "3.6.4"
  }
 },
 "nbformat": 4,
 "nbformat_minor": 1
}
