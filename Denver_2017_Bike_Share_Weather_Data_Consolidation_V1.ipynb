{
 "cells": [
  {
   "cell_type": "code",
   "execution_count": 1,
   "metadata": {},
   "outputs": [],
   "source": [
    "# import necessary libraries and modules\n",
    "import pandas as pd\n",
    "import numpy as np\n",
    "from numpy import datetime64\n",
    "import csv"
   ]
  },
  {
   "cell_type": "code",
   "execution_count": 2,
   "metadata": {},
   "outputs": [],
   "source": [
    "filenames = ['data/Denver_Jan_2017_Daily_Weather_Forecast.csv', 'data/Denver_Feb_2017_Daily_Weather_Forecast.csv',\n",
    "             'data/Denver_Mar_2017_Daily_Weather_Forecast.csv', 'data/Denver_Apr_2017_Daily_Weather_Forecast.csv',\n",
    "             'data/Denver_May_2017_Daily_Weather_Forecast.csv', 'data/Denver_Jun_2017_Daily_Weather_Forecast.csv',\n",
    "             'data/Denver_Jul_2017_Daily_Weather_Forecast.csv', 'data/Denver_Aug_2017_Daily_Weather_Forecast.csv',\n",
    "             'data/Denver_Sep_2017_Daily_Weather_Forecast.csv', 'data/Denver_Oct_2017_Daily_Weather_Forecast.csv',\n",
    "             'data/Denver_Nov_2017_Daily_Weather_Forecast.csv', 'data/Denver_Dec_2017_Daily_Weather_Forecast.csv']\n",
    "\n",
    "dW = pd.read_csv(filenames[0])\n",
    "dW.drop(['Unnamed: 0'], axis = 1, inplace = True)\n",
    "dW.drop([0], axis = 0, inplace = True)\n",
    "\n",
    "for f in filenames[1:]:\n",
    "    dN = pd.read_csv(f)\n",
    "    dN.drop(['Unnamed: 0'], axis = 1, inplace = True)\n",
    "    dN.drop([0], axis = 0, inplace = True)\n",
    "    dW = pd.concat([dW, dN], axis = 0)"
   ]
  },
  {
   "cell_type": "code",
   "execution_count": 3,
   "metadata": {},
   "outputs": [],
   "source": [
    "dW['Date'] = pd.to_datetime(dW['Date'])"
   ]
  },
  {
   "cell_type": "code",
   "execution_count": 4,
   "metadata": {},
   "outputs": [],
   "source": [
    "dW.sort_values(['Date'], inplace=True)"
   ]
  },
  {
   "cell_type": "code",
   "execution_count": 5,
   "metadata": {},
   "outputs": [],
   "source": [
    "dW.drop(['time'], axis = 1, inplace = True)"
   ]
  },
  {
   "cell_type": "code",
   "execution_count": 6,
   "metadata": {},
   "outputs": [
    {
     "name": "stdout",
     "output_type": "stream",
     "text": [
      "<class 'pandas.core.frame.DataFrame'>\n",
      "Int64Index: 365 entries, 1 to 25\n",
      "Data columns (total 9 columns):\n",
      "Date                      365 non-null datetime64[ns]\n",
      "cloudCover                365 non-null float64\n",
      "apparentTemperatureMax    365 non-null float64\n",
      "apparentTemperatureMin    365 non-null float64\n",
      "temperatureMax            365 non-null float64\n",
      "temperatureMin            365 non-null float64\n",
      "windSpeed                 365 non-null float64\n",
      "humidity                  365 non-null float64\n",
      "visibility                365 non-null float64\n",
      "dtypes: datetime64[ns](1), float64(8)\n",
      "memory usage: 28.5 KB\n"
     ]
    }
   ],
   "source": [
    "dW.info()"
   ]
  },
  {
   "cell_type": "code",
   "execution_count": 7,
   "metadata": {},
   "outputs": [],
   "source": [
    "dW.to_csv('data/Denver_2017_Bike_Share_Daily_Weather_Forecast.csv', index=False)"
   ]
  },
  {
   "cell_type": "code",
   "execution_count": 8,
   "metadata": {},
   "outputs": [],
   "source": [
    "filenames = ['data/Denver_Jan_Hourly_2017_Forecast.csv', 'data/Denver_Feb_Hourly_2017_Forecast.csv',\n",
    "             'data/Denver_Mar_Hourly_2017_Forecast.csv', 'data/Denver_Apr_Hourly_2017_Forecast.csv',\n",
    "             'data/Denver_May_Hourly_2017_Forecast.csv', 'data/Denver_Jun_Hourly_2017_Forecast.csv',\n",
    "             'data/Denver_Jul_Hourly_2017_Forecast.csv', 'data/Denver_Aug_Hourly_2017_Forecast.csv',\n",
    "             'data/Denver_Sep_Hourly_2017_Forecast.csv', 'data/Denver_Oct_Hourly_2017_Forecast.csv',\n",
    "             'data/Denver_Nov_Hourly_2017_Forecast.csv', 'data/Denver_Dec_Hourly_2017_Forecast.csv']\n",
    "dW = pd.read_csv(filenames[0])\n",
    "dW.drop(['Unnamed: 0'], axis = 1, inplace = True)\n",
    "dW.drop([0], axis = 0, inplace = True)\n",
    "\n",
    "for f in filenames[1:]:\n",
    "    dN = pd.read_csv(f)\n",
    "    dN.drop(['Unnamed: 0'], axis = 1, inplace = True)\n",
    "    dN.drop([0], axis = 0, inplace = True)\n",
    "    dW = pd.concat([dW, dN], axis = 0)"
   ]
  },
  {
   "cell_type": "code",
   "execution_count": 9,
   "metadata": {},
   "outputs": [],
   "source": [
    "dW['Date'] = pd.to_datetime(dW['Date'])"
   ]
  },
  {
   "cell_type": "code",
   "execution_count": 10,
   "metadata": {},
   "outputs": [],
   "source": [
    "dW['Hour'] = dW[['Hour']].astype('int')"
   ]
  },
  {
   "cell_type": "code",
   "execution_count": 11,
   "metadata": {},
   "outputs": [],
   "source": [
    "dW.sort_values(['Date', 'Hour'], inplace=True)"
   ]
  },
  {
   "cell_type": "code",
   "execution_count": 12,
   "metadata": {},
   "outputs": [],
   "source": [
    "dW.drop(['time'], axis = 1, inplace = True)"
   ]
  },
  {
   "cell_type": "code",
   "execution_count": 13,
   "metadata": {},
   "outputs": [
    {
     "name": "stdout",
     "output_type": "stream",
     "text": [
      "<class 'pandas.core.frame.DataFrame'>\n",
      "Int64Index: 8760 entries, 1 to 600\n",
      "Data columns (total 8 columns):\n",
      "Date                   8760 non-null datetime64[ns]\n",
      "Hour                   8760 non-null int32\n",
      "apparentTemperature    8760 non-null float64\n",
      "cloudCover             8760 non-null float64\n",
      "humidity               8760 non-null float64\n",
      "temperature            8760 non-null float64\n",
      "visibility             8760 non-null float64\n",
      "windSpeed              8760 non-null float64\n",
      "dtypes: datetime64[ns](1), float64(6), int32(1)\n",
      "memory usage: 581.7 KB\n"
     ]
    }
   ],
   "source": [
    "dW.info()"
   ]
  },
  {
   "cell_type": "code",
   "execution_count": 14,
   "metadata": {},
   "outputs": [],
   "source": [
    "dW.to_csv('data/Denver_2017_Bike_Share_Hourly_Weather_Forecast.csv', index=False)"
   ]
  }
 ],
 "metadata": {
  "kernelspec": {
   "display_name": "Python 3",
   "language": "python",
   "name": "python3"
  },
  "language_info": {
   "codemirror_mode": {
    "name": "ipython",
    "version": 3
   },
   "file_extension": ".py",
   "mimetype": "text/x-python",
   "name": "python",
   "nbconvert_exporter": "python",
   "pygments_lexer": "ipython3",
   "version": "3.6.4"
  }
 },
 "nbformat": 4,
 "nbformat_minor": 2
}
